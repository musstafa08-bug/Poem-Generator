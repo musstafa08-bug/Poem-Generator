{
  "nbformat": 4,
  "nbformat_minor": 0,
  "metadata": {
    "colab": {
      "name": "Poem generator.ipynb",
      "provenance": [],
      "collapsed_sections": [],
      "authorship_tag": "ABX9TyNeOsFFzKhrJOVKF8oPiz5p",
      "include_colab_link": true
    },
    "kernelspec": {
      "name": "python3",
      "display_name": "Python 3"
    },
    "accelerator": "GPU"
  },
  "cells": [
    {
      "cell_type": "markdown",
      "metadata": {
        "id": "view-in-github",
        "colab_type": "text"
      },
      "source": [
        "<a href=\"https://colab.research.google.com/github/musstafa08-bug/Poem-Generator/blob/master/Poem_generator.ipynb\" target=\"_parent\"><img src=\"https://colab.research.google.com/assets/colab-badge.svg\" alt=\"Open In Colab\"/></a>"
      ]
    },
    {
      "cell_type": "code",
      "metadata": {
        "id": "BM8FZk_8shlI",
        "colab_type": "code",
        "colab": {}
      },
      "source": [
        "# Load Packages\n",
        "import tensorflow as tf\n",
        "from keras.callbacks import LambdaCallback\n",
        "from keras.models import Model, load_model, Sequential\n",
        "from keras.layers import Dense, Activation, LSTM, Bidirectional, Embedding, Dropout\n",
        "from keras.optimizers import Adam\n",
        "from tensorflow.keras.preprocessing.text import Tokenizer\n",
        "from keras.preprocessing.sequence import pad_sequences\n",
        "import numpy as np\n",
        "import random"
      ],
      "execution_count": 15,
      "outputs": []
    },
    {
      "cell_type": "code",
      "metadata": {
        "id": "WS1YdYuMsp2X",
        "colab_type": "code",
        "colab": {
          "base_uri": "https://localhost:8080/",
          "height": 70
        },
        "outputId": "2546c29d-f6e1-4164-8422-bf06d554deb9"
      },
      "source": [
        "data = open('/content/shakespear.txt').read()\n",
        "corpus = data.lower().split('\\n')\n",
        "tokenizer = Tokenizer()\n",
        "tokenizer.fit_on_texts(corpus)\n",
        "words = tokenizer.word_index\n",
        "total_words = len(words) + 1\n",
        "print(words)\n",
        "print(total_words)"
      ],
      "execution_count": 2,
      "outputs": [
        {
          "output_type": "stream",
          "text": [
            "{'the': 1, 'and': 2, 'to': 3, 'of': 4, 'in': 5, 'my': 6, 'i': 7, 'that': 8, 'thy': 9, 'thou': 10, 'with': 11, 'a': 12, 'for': 13, 'is': 14, 'not': 15, 'you': 16, 'but': 17, 'love': 18, 'me': 19, 'thee': 20, 'be': 21, 'or': 22, 'this': 23, 'so': 24, 'all': 25, 'as': 26, 'it': 27, 'by': 28, 'which': 29, 'his': 30, 'when': 31, 'do': 32, 'your': 33, 'from': 34, 'gutenberg': 35, 'on': 36, 'are': 37, 'no': 38, 'if': 39, 'doth': 40, 'project': 41, 'have': 42, 'then': 43, 'what': 44, 'more': 45, 'mine': 46, 'their': 47, 'shall': 48, 'will': 49, 'sweet': 50, 'they': 51, 'tm': 52, 'time': 53, 'can': 54, 'eyes': 55, 'beauty': 56, 'nor': 57, 'art': 58, 'her': 59, 'yet': 60, 'heart': 61, 'than': 62, 'o': 63, 'work': 64, 'any': 65, '1': 66, 'should': 67, 'self': 68, 'make': 69, 'he': 70, 'where': 71, 'now': 72, 'one': 73, 'may': 74, 'thine': 75, 'how': 76, 'hath': 77, 'fair': 78, 'still': 79, 'at': 80, 'see': 81, 'him': 82, 'true': 83, 'eye': 84, 'such': 85, 'like': 86, 'am': 87, 'works': 88, 'those': 89, 'she': 90, 'though': 91, 'being': 92, 'some': 93, 'who': 94, 'give': 95, 'upon': 96, 'must': 97, 'was': 98, 'own': 99, 'every': 100, 'most': 101, 'other': 102, 'were': 103, 'new': 104, 'dost': 105, 'live': 106, 'world': 107, 'say': 108, 'praise': 109, 'day': 110, \"love's\": 111, 'electronic': 112, 'use': 113, 'might': 114, 'did': 115, 'let': 116, 'well': 117, 'even': 118, 'full': 119, 'why': 120, 'these': 121, 'we': 122, 'old': 123, 'life': 124, 'part': 125, 'show': 126, 'best': 127, 'since': 128, 'e': 129, 'terms': 130, 'look': 131, 'night': 132, 'dear': 133, 'thus': 134, 'our': 135, 'foundation': 136, 'away': 137, 'days': 138, 'an': 139, 'would': 140, 'truth': 141, 'myself': 142, 'alone': 143, 'there': 144, 'up': 145, 'ill': 146, 'worth': 147, 'made': 148, 'face': 149, 'whose': 150, 'nothing': 151, 'against': 152, 'state': 153, 'false': 154, 'better': 155, 'both': 156, \"beauty's\": 157, 'too': 158, 'much': 159, 'hand': 160, 'thought': 161, 'know': 162, 'thoughts': 163, 'name': 164, 'agreement': 165, 'sight': 166, 'hast': 167, 'without': 168, 'them': 169, 'out': 170, 'before': 171, 'therefore': 172, 'license': 173, 'never': 174, \"'\": 175, 'death': 176, 'each': 177, 'mind': 178, \"time's\": 179, 'find': 180, 'come': 181, 'muse': 182, 'things': 183, 'far': 184, 'dead': 185, 'within': 186, 'tell': 187, 'form': 188, 'age': 189, 'youth': 190, 'many': 191, 'had': 192, 'good': 193, 'men': 194, 'verse': 195, 'tongue': 196, 'poor': 197, 'think': 198, 'forth': 199, 'set': 200, 'donations': 201, 'copy': 202, 'proud': 203, 'gentle': 204, 'wilt': 205, 'hold': 206, 'till': 207, 'friend': 208, 'cannot': 209, 'right': 210, 'states': 211, 'copyright': 212, 'looks': 213, 'none': 214, 'end': 215, 'hate': 216, 'change': 217, 'kind': 218, 'whom': 219, 'heaven': 220, 'long': 221, 'first': 222, 'public': 223, 'whilst': 224, 'black': 225, 'lie': 226, 'take': 227, 'found': 228, 'literary': 229, 'archive': 230, 'under': 231, 'die': 232, 'bear': 233, 'making': 234, 'lies': 235, 'hours': 236, 'prove': 237, 'others': 238, 'mayst': 239, 'earth': 240, 'ever': 241, 'seem': 242, 'woe': 243, 'org': 244, 'desire': 245, 'bright': 246, 'shalt': 247, \"summer's\": 248, 'place': 249, 'could': 250, 'pleasure': 251, 'happy': 252, 'keep': 253, 'after': 254, 'thing': 255, 'rich': 256, 'knows': 257, 'sun': 258, \"'tis\": 259, 'grace': 260, 'pride': 261, 'seen': 262, 'trademark': 263, 'paragraph': 264, 'f': 265, 'ebook': 266, 'www': 267, 'shame': 268, 'glass': 269, 'great': 270, 'nature': 271, 'leave': 272, 'unless': 273, 'call': 274, 'again': 275, 'pen': 276, 'write': 277, 'once': 278, 'words': 279, 'loving': 280, 'deeds': 281, 'fire': 282, 'spirit': 283, 'soul': 284, 'united': 285, 'access': 286, 'refund': 287, '3': 288, 'date': 289, 'pity': 290, 'treasure': 291, 'another': 292, 'back': 293, 'through': 294, 'free': 295, 'beauteous': 296, 'gone': 297, 'lives': 298, \"o'er\": 299, 'times': 300, 'strong': 301, 'decay': 302, 'store': 303, 'past': 304, 'save': 305, 'read': 306, 'stay': 307, 'lose': 308, 'makes': 309, 'return': 310, 'loss': 311, 'two': 312, 'although': 313, 'laws': 314, 'power': 315, 'about': 316, 'fee': 317, 'agree': 318, 'information': 319, 's': 320, 'memory': 321, 'cruel': 322, 'only': 323, 'brow': 324, 'deep': 325, 'child': 326, 'blood': 327, 'lovely': 328, 'gives': 329, 'very': 330, 'same': 331, 'summer': 332, 'leaves': 333, 'flowers': 334, 'way': 335, 'joy': 336, 'fear': 337, 'grow': 338, 'blessed': 339, 'stand': 340, 'lines': 341, 'skill': 342, 'wide': 343, 'born': 344, 'glory': 345, 'view': 346, 'disgrace': 347, 'speak': 348, 'faults': 349, 'bring': 350, 'loves': 351, 'delight': 352, 'lest': 353, 'sake': 354, 'thence': 355, 'hell': 356, 'sin': 357, 'three': 358, 'provide': 359, 'associated': 360, 'domain': 361, 'including': 362, 'tender': 363, 'fresh': 364, 'waste': 365, 'excuse': 366, 'cold': 367, 'despite': 368, 'canst': 369, 'ten': 370, 'living': 371, 'thyself': 372, 'hear': 373, 'parts': 374, 'sing': 375, 'ah': 376, 'behold': 377, 'white': 378, 'yourself': 379, 'honour': 380, 'outward': 381, 'less': 382, 'worst': 383, 'purpose': 384, 'itself': 385, 'breast': 386, 'put': 387, 'hope': 388, 'shadow': 389, 'please': 390, 'sad': 391, 'paid': 392, 'while': 393, \"i'll\": 394, 'roses': 395, 'help': 396, 'straight': 397, \"heart's\": 398, 'breath': 399, 'virtue': 400, 'bad': 401, 'lips': 402, 'foul': 403, 'swear': 404, 'charge': 405, 'permission': 406, 'distributing': 407, 'ebooks': 408, 'copies': 409, 'section': 410, 'sonnets': 411, 'rose': 412, 'due': 413, \"nature's\": 414, 'having': 415, 'dwell': 416, 'ere': 417, 'shouldst': 418, 'light': 419, 'head': 420, 'music': 421, 'sweets': 422, 'war': 423, \"lov'st\": 424, \"'gainst\": 425, 'green': 426, 'go': 427, 'themselves': 428, 'hence': 429, 'longer': 430, 'eternal': 431, 'fortune': 432, 'shows': 433, 'means': 434, 'wish': 435, 'number': 436, 'compare': 437, 'sometime': 438, 'swift': 439, 'wrong': 440, \"heaven's\": 441, 'dumb': 442, 'writ': 443, 'wit': 444, 'book': 445, 'rest': 446, 'blind': 447, 'wealth': 448, 'precious': 449, 'enough': 450, 'steal': 451, 'subject': 452, 'argument': 453, 'heavy': 454, 'dull': 455, 'present': 456, 'side': 457, 'care': 458, 'need': 459, 'strange': 460, 'slave': 461, 'been': 462, 'second': 463, 'painting': 464, 'taught': 465, 'fears': 466, 'seeing': 467, 'spent': 468, 'sick': 469, 'general': 470, 'reason': 471, 'mad': 472, '4': 473, 'distribute': 474, 'distribution': 475, 'comply': 476, 'tax': 477, 'volunteers': 478, \"shakespeare's\": 479, 'anyone': 480, 'cost': 481, 'almost': 482, 'fairest': 483, \"world's\": 484, 'ornament': 485, 'spring': 486, 'else': 487, 'tomb': 488, 'calls': 489, 'wrinkles': 490, 'golden': 491, 'spend': 492, 'lend': 493, 'given': 494, 'play': 495, 'winter': 496, 'quite': 497, 'left': 498, 'gracious': 499, 'mortal': 500, 'chide': 501, 'shape': 502, 'least': 503, 'fast': 504, 'year': 505, 'gave': 506, 'gift': 507, 'barren': 508, 'yours': 509, 'rage': 510, 'stars': 511, 'oft': 512, 'doom': 513, 'holds': 514, 'painted': 515, 'keeps': 516, 'graces': 517, 'antique': 518, 'short': 519, 'man': 520, 'hue': 521, \"men's\": 522, 'fell': 523, 'truly': 524, 'trust': 525, 'strength': 526, 'speaking': 527, 'wherein': 528, 'done': 529, 'boast': 530, 'buried': 531, 'merit': 532, 'worthy': 533, 'scope': 534, 'moan': 535, \"stol'n\": 536, 'appear': 537, 'birth': 538, 'hide': 539, 'base': 540, 'grief': 541, 'sorrow': 542, 'tears': 543, 'canker': 544, 'sweetest': 545, 'needs': 546, 'spite': 547, 'whether': 548, 'into': 549, 'invention': 550, 'pain': 551, 'absence': 552, 'kill': 553, 'large': 554, 'water': 555, 'slow': 556, 'motion': 557, 'down': 558, 'says': 559, 'took': 560, 'cause': 561, 'cheek': 562, 'worse': 563, 'near': 564, 'flower': 565, 'faith': 566, 'tied': 567, 'rank': 568, 'defect': 569, 'brain': 570, \"others'\": 571, 'saw': 572, 'grew': 573, 'phrase': 574, 'errors': 575, 'c': 576, 'brand': 577, 'cure': 578, 'creating': 579, \"mistress'\": 580, \"'will\": 581, \"'will'\": 582, 'angel': 583, 'compliance': 584, 'its': 585, 'web': 586, 'owner': 587, 'donate': 588, 'medium': 589, 'replacement': 590, 'contact': 591, 'limited': 592, 'received': 593, 'william': 594, 'shakespeare': 595, 'online': 596, 'april': 597, '7': 598, '1041': 599, 'increase': 600, 'abundance': 601, 'small': 602, 'sum': 603, 'count': 604, 'prime': 605, 'single': 606, 'image': 607, 'lends': 608, 'unused': 609, 'used': 610, 'frame': 611, 'substance': 612, 'pay': 613, \"death's\": 614, 'worms': 615, 'weary': 616, 'mark': 617, 'song': 618, 'seeming': 619, 'behind': 620, 'user': 621, 'grant': 622, 'rude': 623, 'heat': 624, 'beauties': 625, 'scythe': 626, 'takes': 627, 'here': 628, 'prepare': 629, 'lease': 630, 'pluck': 631, 'methinks': 632, 'evil': 633, 'minutes': 634, 'constant': 635, 'grows': 636, 'wherefore': 637, 'rhyme': 638, 'inward': 639, 'believe': 640, 'high': 641, 'numbers': 642, 'touches': 643, \"ne'er\": 644, 'buds': 645, 'course': 646, 'shade': 647, 'crime': 648, 'young': 649, 'mistress': 650, 'created': 651, 'rehearse': 652, 'rare': 653, 'air': 654, 'babe': 655, 'body': 656, 'turns': 657, 'want': 658, 'forgot': 659, 'written': 660, 'bare': 661, 'respect': 662, 'dare': 663, 'toil': 664, \"body's\": 665, 'jewel': 666, 'farther': 667, 'clouds': 668, 'contented': 669, 'break': 670, 'lack': 671, 'expense': 672, 'account': 673, 'hearts': 674, 'holy': 675, \"lov'd\": 676, 'grown': 677, 'sovereign': 678, 'west': 679, 'shine': 680, 'hour': 681, 'wound': 682, 'sense': 683, 'thief': 684, 'remain': 685, 'report': 686, 'comfort': 687, 'leisure': 688, 'blame': 689, 'taste': 690, 'absent': 691, 'said': 692, 'because': 693, \"know'st\": 694, 'gain': 695, 'sleep': 696, 'sea': 697, 'told': 698, 'seek': 699, 'groan': 700, 'judgment': 701, 'appetite': 702, 'morrow': 703, 'former': 704, 'bound': 705, 'check': 706, 'main': 707, 'knife': 708, 'brass': 709, 'win': 710, 'steel': 711, 'forsworn': 712, 'tongues': 713, 'add': 714, 'smell': 715, 'weeds': 716, 'common': 717, 'lost': 718, 'knowing': 719, 'cheeks': 720, 'story': 721, 'praises': 722, 'above': 723, 'lays': 724, 'red': 725, 'over': 726, 'sinful': 727, 'just': 728, 'catch': 729, 'receive': 730, 'laid': 731, 'except': 732, 'bath': 733, 'editions': 734, 'copying': 735, 'mission': 736, 'using': 737, 'person': 738, '8': 739, 'collection': 740, 'individual': 741, 'located': 742, 'displaying': 743, 'support': 744, 'freely': 745, 'format': 746, 'status': 747, 'distributed': 748, 'posted': 749, 'holder': 750, 'fees': 751, 'providing': 752, 'requirements': 753, 'additional': 754, '5': 755, 'site': 756, 'provided': 757, 'damages': 758, 'whatsoever': 759, 're': 760, 'included': 761, 'title': 762, 'last': 763, 'start': 764, 'produced': 765, 'library': 766, 'version': 767, 'decease': 768, 'heir': 769, 'flame': 770, 'eat': 771, 'grave': 772, 'weed': 773, 'answer': 774, 'repair': 775, 'posterity': 776, \"mother's\": 777, 'windows': 778, \"remember'd\": 779, 'abuse': 780, 'audit': 781, 'confounds': 782, 'effect': 783, \"distill'd\": 784, 'meet': 785, \"winter's\": 786, 'happier': 787, 'conquest': 788, 'lo': 789, 'heavenly': 790, 'son': 791, 'ear': 792, 'husband': 793, 'weep': 794, 'kept': 795, \"belov'd\": 796, 'chief': 797, 'fairer': 798, \"grow'st\": 799, 'brave': 800, 'among': 801, 'defence': 802, 'fall': 803, 'brief': 804, 'rain': 805, 'knowledge': 806, 'wouldst': 807, 'nought': 808, 'whereon': 809, 'height': 810, 'wear': 811, 'conceit': 812, 'bloody': 813, 'tyrant': 814, 'maiden': 815, 'virtuous': 816, 'drawn': 817, \"fill'd\": 818, 'half': 819, 'shake': 820, 'hot': 821, 'often': 822, 'complexion': 823, 'possession': 824, 'blunt': 825, 'burn': 826, 'forbid': 827, 'draw': 828, 'allow': 829, \"woman's\": 830, \"women's\": 831, 'woman': 832, 'wert': 833, 'addition': 834, 'moon': 835, 'cover': 836, 'bearing': 837, \"gav'st\": 838, \"express'd\": 839, 'learn': 840, 'therein': 841, 'cunning': 842, 'favour': 843, 'triumph': 844, 'frown': 845, 'fight': 846, 'thousand': 847, 'remove': 848, \"remov'd\": 849, 'duty': 850, 'send': 851, 'witness': 852, 'wanting': 853, 'star': 854, 'haste': 855, 'bed': 856, 'abide': 857, 'looking': 858, 'blot': 859, 'flatter': 860, 'daily': 861, 'friends': 862, 'haply': 863, 'survive': 864, 'survey': 865, 'growing': 866, 'brought': 867, 'style': 868, 'basest': 869, 'ride': 870, 'alack': 871, 'stain': 872, 'didst': 873, 'bears': 874, 'cross': 875, 'thorns': 876, 'amiss': 877, 'sins': 878, 'fault': 879, 'lawful': 880, 'plea': 881, 'twain': 882, 'evermore': 883, 'active': 884, \"fortune's\": 885, 'dearest': 886, 'vulgar': 887, 'outlive': 888, 'manners': 889, 'us': 890, 'torment': 891, 'greater': 892, 'injury': 893, 'foes': 894, 'pretty': 895, 'years': 896, 'nearly': 897, 'approve': 898, 'losing': 899, 'flattery': 900, 'dark': 901, 'shadows': 902, 'clear': 903, 'flesh': 904, 'matter': 905, 'foot': 906, 'soon': 907, \"assur'd\": 908, \"eye's\": 909, 'picture': 910, 'either': 911, 'sure': 912, 'chest': 913, 'whence': 914, 'prize': 915, 'pass': 916, 'greet': 917, 'reasons': 918, 'desert': 919, 'teach': 920, 'speed': 921, 'pace': 922, 'special': 923, 'tend': 924, 'odour': 925, 'hang': 926, 'gilded': 927, 'stone': 928, 'quick': 929, 'record': 930, 'edge': 931, 'feeding': 932, 'fill': 933, 'ocean': 934, 'shore': 935, 'thrice': 936, 'fool': 937, 'anything': 938, 'god': 939, 'control': 940, 'doing': 941, 'five': 942, 'character': 943, 'wonder': 944, \"crown'd\": 945, 'stands': 946, 'mock': 947, 'home': 948, 'elsewhere': 949, 'advantage': 950, 'action': 951, 'simple': 952, 'infection': 953, 'lived': 954, 'bastard': 955, \"another's\": 956, 'mend': 957, 'suspect': 958, 'flies': 959, 'mourn': 960, 'vile': 961, 'line': 962, 'thinking': 963, 'birds': 964, 'ground': 965, 'pine': 966, 'word': 967, 'eternity': 968, 'contain': 969, 'acquaintance': 970, 'got': 971, 'double': 972, 'fame': 973, 'sail': 974, 'anew': 975, 'plain': 976, 'gross': 977, \"us'd\": 978, 'silence': 979, 'bonds': 980, 'walks': 981, 'vow': 982, 'costs': 983, 'wretched': 984, 'depends': 985, \"what's\": 986, 'creation': 987, 'turn': 988, 'removed': 989, \"seem'd\": 990, 'despair': 991, 'growth': 992, 'colour': 993, 'office': 994, 'constancy': 995, \"confin'd\": 996, 'express': 997, 'boy': 998, 'page': 999, \"prov'd\": 1000, 'proof': 1001, 'receives': 1002, 'plague': 1003, 'minds': 1004, 'certain': 1005, 'taken': 1006, 'whereto': 1007, 'unkind': 1008, 'paying': 1009, 'fingers': 1010, 'kiss': 1011, \"perjur'd\": 1012, 'came': 1013, 'receipt': 1014, 'corrupt': 1015, 'follow': 1016, \"'i\": 1017, \"hate'\": 1018, 'sworn': 1019, 'conscience': 1020, 'breach': 1021, 'oaths': 1022, 'complying': 1023, 'derivative': 1024, 'obtain': 1025, 'entity': 1026, 'b': 1027, 'people': 1028, 'below': 1029, 'future': 1030, 'performing': 1031, 'outside': 1032, 'following': 1033, 'links': 1034, '2': 1035, 'notice': 1036, 'paragraphs': 1037, '9': 1038, 'official': 1039, 'royalty': 1040, 'applicable': 1041, 'payments': 1042, 'money': 1043, 'writing': 1044, 'efforts': 1045, 'defective': 1046, 'equipment': 1047, 'disclaimer': 1048, 'liability': 1049, 'warranties': 1050, 'limitation': 1051, \"foundation's\": 1052, 'u': 1053, 'anywhere': 1054, 'restrictions': 1055, 'posting': 1056, 'updated': 1057, 'march': 1058, 'joseph': 1059, 'miller': 1060, 'embry': 1061, 'riddle': 1062, 'aeronautical': 1063, 'university': 1064, 'html': 1065, 'al': 1066, 'haines': 1067, 'creatures': 1068, 'thereby': 1069, 'riper': 1070, 'contracted': 1071, 'bud': 1072, 'content': 1073, 'churl': 1074, \"mak'st\": 1075, 'forty': 1076, 'winters': 1077, 'besiege': 1078, \"tatter'd\": 1079, 'held': 1080, 'lusty': 1081, \"'this\": 1082, 'mother': 1083, 'womb': 1084, 'husbandry': 1085, 'fond': 1086, 'stop': 1087, 'niggard': 1088, 'bounteous': 1089, 'usurer': 1090, 'deceive': 1091, \"th'\": 1092, 'gaze': 1093, 'leads': 1094, 'hideous': 1095, 'sap': 1096, 'checked': 1097, 'bareness': 1098, 'pent': 1099, 'walls': 1100, 'remembrance': 1101, 'willing': 1102, 'breed': 1103, 'depart': 1104, 'appearing': 1105, 'serving': 1106, 'sacred': 1107, 'majesty': 1108, 'steep': 1109, 'resembling': 1110, 'middle': 1111, 'attending': 1112, 'pilgrimage': 1113, 'pitch': 1114, 'converted': 1115, \"unlook'd\": 1116, 'delights': 1117, \"receiv'st\": 1118, 'concord': 1119, 'sounds': 1120, 'married': 1121, 'sweetly': 1122, 'mutual': 1123, 'pleasing': 1124, 'note': 1125, 'speechless': 1126, 'sings': 1127, 'wail': 1128, 'widow': 1129, 'bosom': 1130, 'himself': 1131, 'commits': 1132, 'deny': 1133, \"possess'd\": 1134, 'murderous': 1135, 'presence': 1136, 'folly': 1137, 'cease': 1138, 'bounty': 1139, 'print': 1140, 'clock': 1141, 'tells': 1142, 'violet': 1143, 'lofty': 1144, 'canopy': 1145, 'borne': 1146, 'question': 1147, 'wastes': 1148, 'forsake': 1149, 'coming': 1150, 'issue': 1151, 'father': 1152, 'judgement': 1153, 'wind': 1154, 'princes': 1155, 'derive': 1156, \"'truth\": 1157, 'thrive': 1158, 'perfection': 1159, 'little': 1160, 'huge': 1161, 'stage': 1162, 'influence': 1163, 'comment': 1164, 'youthful': 1165, 'inconstant': 1166, 'sets': 1167, 'wasteful': 1168, 'fortify': 1169, 'counterfeit': 1170, 'pencil': 1171, 'neither': 1172, 'deserts': 1173, 'poet': 1174, 'faces': 1175, \"poet's\": 1176, 'alive': 1177, 'twice': 1178, 'winds': 1179, 'shines': 1180, 'gold': 1181, 'changing': 1182, 'fade': 1183, 'breathe': 1184, 'keen': 1185, 'fierce': 1186, \"liv'd\": 1187, 'glad': 1188, 'seasons': 1189, \"whate'er\": 1190, 'fading': 1191, 'pattern': 1192, 'master': 1193, 'acquainted': 1194, 'fashion': 1195, 'theirs': 1196, 'gilding': 1197, 'controlling': 1198, 'souls': 1199, 'wrought': 1200, 'doting': 1201, \"fix'd\": 1202, 'slain': 1203, 'beside': 1204, 'replete': 1205, 'forget': 1206, 'perfect': 1207, 'burthen': 1208, 'plead': 1209, 'silent': 1210, 'belongs': 1211, 'fine': 1212, 'painter': 1213, \"bosom's\": 1214, 'bars': 1215, 'spread': 1216, 'strongly': 1217, \"soul's\": 1218, 'moving': 1219, 'limbs': 1220, 'travel': 1221, \"tir'd\": 1222, 'journey': 1223, 'eyelids': 1224, 'open': 1225, 'sightless': 1226, 'hung': 1227, 'benefit': 1228, \"oppress'd\": 1229, 'enemies': 1230, \"either's\": 1231, 'reign': 1232, 'hands': 1233, 'torture': 1234, 'off': 1235, 'sorrows': 1236, 'nightly': 1237, 'stronger': 1238, 'cries': 1239, 'curse': 1240, \"man's\": 1241, 'sullen': 1242, 'hymns': 1243, 'brings': 1244, 'scorn': 1245, 'kings': 1246, 'hid': 1247, 'dateless': 1248, 'heavily': 1249, 'supposed': 1250, 'obsequious': 1251, 'interest': 1252, 'lovers': 1253, 'dust': 1254, 'deceased': 1255, 'reserve': 1256, 'vouchsafe': 1257, \"friend's\": 1258, 'dearer': 1259, 'died': 1260, 'poets': 1261, 'morning': 1262, 'mountain': 1263, 'pale': 1264, 'alchemy': 1265, 'anon': 1266, 'stealing': 1267, 'unseen': 1268, 'morn': 1269, 'triumphant': 1270, 'cloud': 1271, \"mask'd\": 1272, 'rotten': 1273, 'salve': 1274, 'physic': 1275, 'weak': 1276, 'ransom': 1277, 'eclipses': 1278, 'trespass': 1279, 'sensual': 1280, 'party': 1281, 'sourly': 1282, 'robs': 1283, 'kindness': 1284, 'sort': 1285, 'lame': 1286, 'sit': 1287, 'invent': 1288, 'paper': 1289, 'aught': 1290, 'slight': 1291, \"is't\": 1292, 'sour': 1293, 'praising': 1294, 'hadst': 1295, \"blam'd\": 1296, 'wilful': 1297, 'robbery': 1298, 'poverty': 1299, 'lascivious': 1300, 'wrongs': 1301, 'liberty': 1302, 'temptation': 1303, \"assail'd\": 1304, 'ay': 1305, 'mightst': 1306, 'seat': 1307, 'forbear': 1308, 'lead': 1309, 'ye': 1310, 'lay': 1311, 'wink': 1312, 'unrespected': 1313, 'dreams': 1314, 'clearer': 1315, 'nights': 1316, 'injurious': 1317, 'farthest': 1318, 'nimble': 1319, 'leap': 1320, 'miles': 1321, 'receiving': 1322, 'elements': 1323, 'health': 1324, 'quest': 1325, 'feast': 1326, 'guest': 1327, 'share': 1328, 'careful': 1329, 'falsehood': 1330, 'jewels': 1331, 'prey': 1332, 'feel': 1333, 'proves': 1334, 'thievish': 1335, 'defects': 1336, 'cast': 1337, \"call'd\": 1338, 'strangely': 1339, 'guard': 1340, 'ease': 1341, 'beast': 1342, 'tired': 1343, 'wretch': 1344, 'spur': 1345, 'offence': 1346, 'horse': 1347, 'towards': 1348, 'point': 1349, 'seldom': 1350, 'captain': 1351, 'blest': 1352, \"imprison'd\": 1353, 'lacked': 1354, 'whereof': 1355, 'deaths': 1356, 'powerful': 1357, 'root': 1358, 'arise': 1359, 'force': 1360, 'hungry': 1361, 'perpetual': 1362, 'welcome': 1363, 'require': 1364, 'watch': 1365, 'bitterness': 1366, 'affairs': 1367, 'thinks': 1368, 'vassal': 1369, 'suffer': 1370, 'patience': 1371, 'bide': 1372, 'charter': 1373, 'belong': 1374, 'wait': 1375, \"wh'r\": 1376, 'wits': 1377, 'subjects': 1378, 'goes': 1379, 'crooked': 1380, 'confound': 1381, 'feeds': 1382, 'shames': 1383, 'idle': 1384, 'remedy': 1385, 'grounded': 1386, 'antiquity': 1387, \"age's\": 1388, 'king': 1389, 'outworn': 1390, \"raz'd\": 1391, 'soil': 1392, 'increasing': 1393, 'choose': 1394, 'ink': 1395, 'cry': 1396, 'sway': 1397, 'indirectly': 1398, 'lively': 1399, 'veins': 1400, 'map': 1401, 'gay': 1402, 'shown': 1403, 'guess': 1404, 'measure': 1405, 'crow': 1406, 'slander': 1407, 'pure': 1408, 'tie': 1409, 'envy': 1410, 'fled': 1411, 'nay': 1412, 'remember': 1413, 'wise': 1414, 'devise': 1415, 'untrue': 1416, 'yellow': 1417, 'few': 1418, \"ruin'd\": 1419, \"see'st\": 1420, 'bail': 1421, 'carry': 1422, 'showers': 1423, 'peace': 1424, \"'twixt\": 1425, 'doubting': 1426, 'counting': 1427, 'possessing': 1428, 'glance': 1429, 'aside': 1430, 'methods': 1431, 'compounds': 1432, 'noted': 1433, 'already': 1434, 'telling': 1435, 'dial': 1436, 'learning': 1437, 'profit': 1438, 'assistance': 1439, 'ignorance': 1440, 'added': 1441, 'aid': 1442, 'pays': 1443, 'humble': 1444, 'saucy': 1445, 'bark': 1446, 'worthless': 1447, 'yield': 1448, 'monument': 1449, 'finding': 1450, 'quill': 1451, 'mute': 1452, 'example': 1453, 'comments': 1454, 'affords': 1455, 'something': 1456, 'spirits': 1457, 'giving': 1458, 'riches': 1459, 'comes': 1460, 'dream': 1461, 'bending': 1462, 'injuries': 1463, 'vantage': 1464, 'desired': 1465, 'beloved': 1466, 'bent': 1467, 'bow': 1468, 'hawks': 1469, 'humour': 1470, 'adjunct': 1471, 'finds': 1472, \"alter'd\": 1473, 'sweetness': 1474, 'excellence': 1475, 'sport': 1476, 'mansion': 1477, \"esteem'd\": 1478, \"deem'd\": 1479, 'betray': 1480, 'autumn': 1481, \"unfather'd\": 1482, 'different': 1483, \"dy'd\": 1484, 'blushing': 1485, 'esteem': 1486, 'rise': 1487, 'despised': 1488, 'neglect': 1489, 'appears': 1490, 'seems': 1491, \"turn'd\": 1492, 'perfumes': 1493, 'wondrous': 1494, \"'fair\": 1495, 'rime': 1496, 'forfeit': 1497, 'divine': 1498, 'bred': 1499, 'easy': 1500, 'frailties': 1501, 'alas': 1502, 'newer': 1503, 'next': 1504, 'guilty': 1505, 'goddess': 1506, 'drink': 1507, 'potions': 1508, 'bitter': 1509, 'strive': 1510, 'objects': 1511, 'palate': 1512, 'vows': 1513, 'alters': 1514, 'alteration': 1515, 'shaken': 1516, 'unknown': 1517, 'accuse': 1518, 'level': 1519, 'urge': 1520, 'prevent': 1521, 'maladies': 1522, 'shun': 1523, \"diseas'd\": 1524, 'policy': 1525, 'healthful': 1526, 'goodness': 1527, 'hopes': 1528, 'committed': 1529, 'fever': 1530, 'built': 1531, 'unkindness': 1532, 'becomes': 1533, 'feeling': 1534, 'wills': 1535, 'tables': 1536, 'bold': 1537, 'discontent': 1538, 'bore': 1539, 'render': 1540, 'fickle': 1541, \"profan'd\": 1542, 'mourners': 1543, 'becoming': 1544, 'wood': 1545, 'jacks': 1546, 'lust': 1547, 'extreme': 1548, 'sooner': 1549, 'pursuit': 1550, 'wires': 1551, 'sound': 1552, 'belied': 1553, 'disdain': 1554, 'mourning': 1555, 'suit': 1556, 'fulfil': 1557, 'several': 1558, 'vainly': 1559, 'credit': 1560, 'ears': 1561, 'despise': 1562, 'dote': 1563, 'broke': 1564, 'chase': 1565, 'fiend': 1566, 'directly': 1567, 'array': 1568, 'preserve': 1569, 'service': 1570, 'abhor': 1571, 'cupid': 1572, 'asleep': 1573, 'file': 1574, 'files': 1575, 'formats': 1576, 'owns': 1577, 'royalties': 1578, 'rules': 1579, 'protect': 1580, 'concept': 1581, 'registered': 1582, 'research': 1583, 'printed': 1584, 'redistribution': 1585, 'promoting': 1586, 'available': 1587, 'redistributing': 1588, 'intellectual': 1589, 'property': 1590, 'destroy': 1591, 'obtaining': 1592, 'pglaf': 1593, 'based': 1594, 'references': 1595, 'keeping': 1596, 'also': 1597, 'country': 1598, 'concerning': 1599, 'sentence': 1600, 'immediate': 1601, 'prominently': 1602, 'copied': 1603, 'does': 1604, '6': 1605, 'marked': 1606, 'vanilla': 1607, 'ascii': 1608, 'specified': 1609, 'has': 1610, 'physical': 1611, 'accordance': 1612, '90': 1613, 'michael': 1614, 'hart': 1615, 'employees': 1616, 'considerable': 1617, 'effort': 1618, 'computer': 1619, 'damage': 1620, 'warranty': 1621, 'expenses': 1622, 'legal': 1623, 'explanation': 1624, 'lieu': 1625, 'electronically': 1626, 'implied': 1627, 'law': 1628, 'permitted': 1629, 'readable': 1630, 'widest': 1631, 'computers': 1632, 'generations': 1633, 'exempt': 1634, 'federal': 1635, 'contributions': 1636, 'dr': 1637, 'locations': 1638, 'email': 1639, 'solicit': 1640, 'particular': 1641, 'visit': 1642, 'accepted': 1643, '\\ufeffthe': 1644, 'author': 1645, '2014': 1646, 'release': 1647, 'september': 1648, '1997': 1649, '10': 1650, '2010': 1651, 'language': 1652, 'english': 1653, \"feed'st\": 1654, \"light's\": 1655, 'substantial': 1656, 'fuel': 1657, 'famine': 1658, 'foe': 1659, 'herald': 1660, 'gaudy': 1661, 'buriest': 1662, 'niggarding': 1663, 'glutton': 1664, 'ii': 1665, 'dig': 1666, 'trenches': 1667, 'field': 1668, \"youth's\": 1669, 'livery': 1670, 'gazed': 1671, 'asked': 1672, 'sunken': 1673, 'eating': 1674, 'thriftless': 1675, \"deserv'd\": 1676, 'couldst': 1677, 'proving': 1678, 'succession': 1679, 'warm': 1680, \"feel'st\": 1681, 'iii': 1682, 'viewest': 1683, 'renewest': 1684, 'beguile': 1685, 'unbless': 1686, \"unear'd\": 1687, 'disdains': 1688, 'tillage': 1689, 'dies': 1690, 'iv': 1691, 'unthrifty': 1692, 'loveliness': 1693, 'legacy': 1694, 'bequest': 1695, 'frank': 1696, 'largess': 1697, 'profitless': 1698, 'sums': 1699, 'traffic': 1700, 'acceptable': 1701, 'tombed': 1702, 'executor': 1703, 'v': 1704, 'tyrants': 1705, 'unfair': 1706, 'fairly': 1707, 'excel': 1708, 'resting': 1709, 'frost': 1710, 'snowed': 1711, 'distillation': 1712, 'liquid': 1713, 'prisoner': 1714, 'bereft': 1715, 'leese': 1716, 'vi': 1717, 'ragged': 1718, 'deface': 1719, 'vial': 1720, \"kill'd\": 1721, 'forbidden': 1722, 'usury': 1723, 'happies': 1724, 'loan': 1725, \"that's\": 1726, \"refigur'd\": 1727, 'leaving': 1728, \"will'd\": 1729, 'vii': 1730, 'orient': 1731, 'lifts': 1732, 'burning': 1733, 'homage': 1734, \"climb'd\": 1735, 'hill': 1736, 'adore': 1737, 'highmost': 1738, 'car': 1739, 'feeble': 1740, 'reeleth': 1741, \"'fore\": 1742, 'duteous': 1743, 'low': 1744, 'tract': 1745, 'outgoing': 1746, 'noon': 1747, 'diest': 1748, 'get': 1749, 'viii': 1750, \"hear'st\": 1751, 'sadly': 1752, 'gladly': 1753, 'annoy': 1754, 'tuned': 1755, 'unions': 1756, 'offend': 1757, 'singleness': 1758, 'string': 1759, 'strikes': 1760, 'ordering': 1761, 'sire': 1762, \"'thou\": 1763, 'ix': 1764, 'wet': 1765, \"widow's\": 1766, \"consum'st\": 1767, 'issueless': 1768, 'hap': 1769, 'makeless': 1770, 'wife': 1771, 'private': 1772, \"children's\": 1773, \"husband's\": 1774, 'unthrift': 1775, 'shifts': 1776, 'enjoys': 1777, 'destroys': 1778, 'toward': 1779, 'sits': 1780, \"murd'rous\": 1781, 'x': 1782, \"bear'st\": 1783, 'unprovident': 1784, 'evident': 1785, \"stick'st\": 1786, 'conspire': 1787, 'seeking': 1788, 'roof': 1789, 'ruinate': 1790, \"lodg'd\": 1791, 'hearted': 1792, 'xi': 1793, 'wane': 1794, 'departest': 1795, 'youngly': 1796, \"bestow'st\": 1797, 'convertest': 1798, 'herein': 1799, 'wisdom': 1800, 'minded': 1801, 'threescore': 1802, 'harsh': 1803, 'featureless': 1804, 'barrenly': 1805, 'perish': 1806, \"endow'd\": 1807, 'cherish': 1808, \"carv'd\": 1809, 'seal': 1810, 'meant': 1811, 'xii': 1812, 'sunk': 1813, 'sable': 1814, 'curls': 1815, 'silvered': 1816, 'trees': 1817, 'erst': 1818, 'herd': 1819, 'girded': 1820, 'sheaves': 1821, 'bier': 1822, 'bristly': 1823, 'beard': 1824, 'xiii': 1825, 'semblance': 1826, 'determination': 1827, \"yourself's\": 1828, 'lets': 1829, 'house': 1830, 'uphold': 1831, 'stormy': 1832, 'gusts': 1833, 'unthrifts': 1834, 'xiv': 1835, 'astronomy': 1836, 'luck': 1837, 'plagues': 1838, 'dearths': 1839, \"seasons'\": 1840, 'quality': 1841, 'pointing': 1842, 'thunder': 1843, 'predict': 1844, 'together': 1845, \"convert'\": 1846, 'prognosticate': 1847, \"'thy\": 1848, \"truth's\": 1849, 'xv': 1850, 'consider': 1851, 'moment': 1852, 'presenteth': 1853, 'secret': 1854, 'perceive': 1855, 'plants': 1856, 'cheered': 1857, 'sky': 1858, 'vaunt': 1859, 'decrease': 1860, 'debateth': 1861, 'sullied': 1862, 'engraft': 1863, 'xvi': 1864, 'mightier': 1865, 'top': 1866, 'gardens': 1867, 'unset': 1868, 'liker': 1869, 'pupil': 1870, 'xvii': 1871, 'hides': 1872, \"touch'd\": 1873, 'earthly': 1874, 'papers': 1875, \"yellow'd\": 1876, \"scorn'd\": 1877, 'rights': 1878, \"term'd\": 1879, 'stretched': 1880, 'metre': 1881, 'xviii': 1882, 'temperate': 1883, 'rough': 1884, 'darling': 1885, \"dimm'd\": 1886, 'declines': 1887, 'chance': 1888, \"untrimm'd\": 1889, \"ow'st\": 1890, 'brag': 1891, \"wander'st\": 1892, 'xix': 1893, 'devouring': 1894, \"lion's\": 1895, 'paws': 1896, 'devour': 1897, 'brood': 1898, 'teeth': 1899, \"tiger's\": 1900, 'jaws': 1901, 'phoenix': 1902, 'sorry': 1903, 'fleets': 1904, 'footed': 1905, 'heinous': 1906, 'carve': 1907, 'untainted': 1908, 'succeeding': 1909, 'xx': 1910, 'passion': 1911, 'shifting': 1912, 'rolling': 1913, 'object': 1914, 'whereupon': 1915, 'gazeth': 1916, \"'hues'\": 1917, 'steals': 1918, 'amazeth': 1919, 'defeated': 1920, 'adding': 1921, \"prick'd\": 1922, 'xxi': 1923, \"stirr'd\": 1924, 'couplement': 1925, \"sea's\": 1926, 'gems': 1927, \"april's\": 1928, 'rondure': 1929, 'hems': 1930, 'candles': 1931, 'hearsay': 1932, 'sell': 1933, 'xxii': 1934, 'persuade': 1935, 'furrows': 1936, 'expiate': 1937, 'seemly': 1938, 'raiment': 1939, 'elder': 1940, 'wary': 1941, 'chary': 1942, 'nurse': 1943, 'faring': 1944, 'presume': 1945, 'xxiii': 1946, 'unperfect': 1947, 'actor': 1948, \"strength's\": 1949, 'weakens': 1950, 'ceremony': 1951, 'rite': 1952, \"o'ercharg'd\": 1953, 'eloquence': 1954, 'presagers': 1955, 'recompense': 1956, 'xxiv': 1957, \"play'd\": 1958, \"stell'd\": 1959, 'table': 1960, 'perspective': 1961, \"painter's\": 1962, \"pictur'd\": 1963, 'shop': 1964, 'hanging': 1965, 'glazed': 1966, 'peep': 1967, 'xxv': 1968, 'titles': 1969, \"princes'\": 1970, 'favourites': 1971, 'marigold': 1972, \"sun's\": 1973, 'painful': 1974, 'warrior': 1975, 'famoused': 1976, 'victories': 1977, \"foil'd\": 1978, 'razed': 1979, \"toil'd\": 1980, 'xxvi': 1981, 'lord': 1982, 'vassalage': 1983, 'knit': 1984, 'embassage': 1985, 'naked': 1986, 'bestow': 1987, 'guides': 1988, 'points': 1989, 'graciously': 1990, 'aspect': 1991, 'puts': 1992, 'apparel': 1993, 'xxvii': 1994, 'respose': 1995, 'begins': 1996, \"work's\": 1997, 'expired': 1998, 'intend': 1999, 'zealous': 2000, 'drooping': 2001, 'darkness': 2002, 'imaginary': 2003, 'presents': 2004, 'ghastly': 2005, 'quiet': 2006, 'xxviii': 2007, 'plight': 2008, \"debarre'd\": 2009, \"day's\": 2010, 'oppression': 2011, \"eas'd\": 2012, 'consent': 2013, 'complain': 2014, 'swart': 2015, \"complexion'd\": 2016, 'sparkling': 2017, 'twire': 2018, \"gild'st\": 2019, \"grief's\": 2020, 'length': 2021, 'xxix': 2022, 'beweep': 2023, 'outcast': 2024, 'trouble': 2025, 'deaf': 2026, 'bootless': 2027, 'fate': 2028, 'wishing': 2029, \"featur'd\": 2030, 'desiring': 2031, 'enjoy': 2032, 'despising': 2033, 'lark': 2034, 'arising': 2035, 'gate': 2036, 'xxx': 2037, 'sessions': 2038, 'summon': 2039, 'sigh': 2040, 'sought': 2041, 'woes': 2042, 'drown': 2043, 'flow': 2044, 'afresh': 2045, \"cancell'd\": 2046, \"vanish'd\": 2047, 'grieve': 2048, 'grievances': 2049, 'foregone': 2050, 'fore': 2051, 'bemoaned': 2052, 'losses': 2053, \"restor'd\": 2054, 'xxxi': 2055, 'endeared': 2056, 'lacking': 2057, 'reigns': 2058, 'tear': 2059, 'religious': 2060, 'hidden': 2061, 'trophies': 2062, 'images': 2063, 'xxxii': 2064, 'bones': 2065, 'lover': 2066, \"bett'ring\": 2067, \"outstripp'd\": 2068, 'exceeded': 2069, \"'had\": 2070, 'ranks': 2071, 'equipage': 2072, \"love'\": 2073, 'xxxiii': 2074, 'glorious': 2075, 'tops': 2076, 'kissing': 2077, 'meadows': 2078, 'streams': 2079, 'permit': 2080, 'ugly': 2081, 'rack': 2082, 'celestial': 2083, 'forlorn': 2084, 'visage': 2085, 'early': 2086, 'splendour': 2087, 'region': 2088, 'whit': 2089, 'disdaineth': 2090, 'suns': 2091, 'staineth': 2092, 'xxxiv': 2093, 'promise': 2094, 'cloak': 2095, \"o'ertake\": 2096, 'hiding': 2097, 'bravery': 2098, 'smoke': 2099, 'dry': 2100, 'storm': 2101, 'beaten': 2102, 'heals': 2103, 'cures': 2104, 'repent': 2105, \"offender's\": 2106, 'relief': 2107, \"offence's\": 2108, 'pearl': 2109, 'sheds': 2110, 'xxxv': 2111, \"griev'd\": 2112, 'silver': 2113, 'fountains': 2114, 'mud': 2115, 'loathsome': 2116, 'authorizing': 2117, 'corrupting': 2118, 'salving': 2119, 'excusing': 2120, 'adverse': 2121, 'advocate': 2122, 'commence': 2123, 'civil': 2124, 'accessary': 2125, 'xxxvi': 2126, 'confess': 2127, 'undivided': 2128, 'blots': 2129, 'separable': 2130, 'alter': 2131, 'sole': 2132, 'acknowledge': 2133, 'bewailed': 2134, 'guilt': 2135, 'xxxvii': 2136, 'decrepit': 2137, 'entitled': 2138, 'crowned': 2139, 'engrafted': 2140, \"despis'd\": 2141, \"suffic'd\": 2142, 'xxxviii': 2143, \"pour'st\": 2144, 'excellent': 2145, 'thanks': 2146, 'perusal': 2147, \"who's\": 2148, 'tenth': 2149, 'nine': 2150, 'rhymers': 2151, 'invocate': 2152, 'curious': 2153, 'xxxix': 2154, 'divided': 2155, 'separation': 2156, \"deserv'st\": 2157, 'entertain': 2158, 'teachest': 2159, 'xl': 2160, 'yea': 2161, 'receivest': 2162, 'usest': 2163, 'deceivest': 2164, 'refusest': 2165, 'forgive': 2166, \"hate's\": 2167, 'known': 2168, 'spites': 2169, 'xli': 2170, 'befits': 2171, 'follows': 2172, 'won': 2173, 'woos': 2174, \"prevail'd\": 2175, 'straying': 2176, 'riot': 2177, 'forced': 2178, 'twofold': 2179, 'hers': 2180, 'tempting': 2181, 'xlii': 2182, 'loved': 2183, 'dearly': 2184, 'wailing': 2185, 'offenders': 2186, 'suffering': 2187, \"here's\": 2188, 'xliii': 2189, 'darkly': 2190, 'directed': 2191, \"shadow's\": 2192, 'unseeing': 2193, 'imperfect': 2194, 'xliv': 2195, 'distance': 2196, 'space': 2197, 'limits': 2198, 'remote': 2199, 'jump': 2200, 'land': 2201, 'kills': 2202, 'lengths': 2203, 'attend': 2204, 'badges': 2205, 'xlv': 2206, 'purging': 2207, 'wherever': 2208, 'slide': 2209, 'quicker': 2210, 'embassy': 2211, 'four': 2212, 'sinks': 2213, 'melancholy': 2214, 'until': 2215, \"life's\": 2216, 'composition': 2217, \"recur'd\": 2218, 'messengers': 2219, \"return'd\": 2220, 'recounting': 2221, 'xlvi': 2222, 'divide': 2223, \"picture's\": 2224, 'bar': 2225, 'freedom': 2226, 'closet': 2227, \"pierc'd\": 2228, 'crystal': 2229, 'defendant': 2230, 'appearance': 2231, 'impannelled': 2232, 'tenants': 2233, 'verdict': 2234, 'determined': 2235, 'moiety': 2236, 'xlvii': 2237, 'betwixt': 2238, 'league': 2239, 'unto': 2240, \"famish'd\": 2241, 'sighs': 2242, 'smother': 2243, 'banquet': 2244, 'bids': 2245, 'move': 2246, 'awakes': 2247, 'xlviii': 2248, 'trifle': 2249, 'truest': 2250, 'thrust': 2251, 'wards': 2252, 'trifles': 2253, 'greatest': 2254, \"lock'd\": 2255, 'closure': 2256, 'xlix': 2257, 'utmost': 2258, \"advis'd\": 2259, 'respects': 2260, 'scarcely': 2261, 'settled': 2262, 'gravity': 2263, 'ensconce': 2264, 'uprear': 2265, 'allege': 2266, 'l': 2267, \"travel's\": 2268, 'repose': 2269, \"'thus\": 2270, 'measured': 2271, 'plods': 2272, 'dully': 2273, 'weight': 2274, 'instinct': 2275, 'rider': 2276, 'provoke': 2277, 'sometimes': 2278, 'anger': 2279, 'thrusts': 2280, 'answers': 2281, 'sharp': 2282, 'spurring': 2283, 'onward': 2284, 'li': 2285, 'bearer': 2286, 'extremity': 2287, 'mounted': 2288, 'winged': 2289, \"perfect'st\": 2290, 'neigh': 2291, 'fiery': 2292, 'race': 2293, 'jade': 2294, \"'since\": 2295, 'going': 2296, 'went': 2297, 'run': 2298, 'lii': 2299, 'key': 2300, 'locked': 2301, 'blunting': 2302, 'feasts': 2303, 'solemn': 2304, 'stones': 2305, 'thinly': 2306, 'placed': 2307, 'carcanet': 2308, 'wardrobe': 2309, 'robe': 2310, 'instant': 2311, 'unfolding': 2312, 'worthiness': 2313, 'liii': 2314, 'millions': 2315, 'describe': 2316, 'adonis': 2317, 'poorly': 2318, 'imitated': 2319, \"helen's\": 2320, 'grecian': 2321, 'tires': 2322, 'foison': 2323, 'external': 2324, 'liv': 2325, 'deem': 2326, 'blooms': 2327, 'dye': 2328, 'perfumed': 2329, 'tincture': 2330, 'wantonly': 2331, 'masked': 2332, 'discloses': 2333, \"unwoo'd\": 2334, 'odours': 2335, 'vade': 2336, 'distills': 2337, 'lv': 2338, 'marble': 2339, 'monuments': 2340, 'contents': 2341, 'unswept': 2342, \"besmear'd\": 2343, 'sluttish': 2344, 'statues': 2345, 'overturn': 2346, 'broils': 2347, 'masonry': 2348, 'mars': 2349, 'sword': 2350, \"war's\": 2351, 'oblivious': 2352, 'enmity': 2353, 'room': 2354, 'ending': 2355, \"lovers'\": 2356, 'lvi': 2357, 'renew': 2358, 'blunter': 2359, \"allay'd\": 2360, 'sharpened': 2361, 'fulness': 2362, 'dulness': 2363, 'interim': 2364, 'banks': 2365, 'wished': 2366, 'lvii': 2367, 'services': 2368, 'bid': 2369, 'servant': 2370, 'adieu': 2371, 'jealous': 2372, 'suppose': 2373, 'lviii': 2374, 'crave': 2375, 'beck': 2376, 'tame': 2377, 'sufferance': 2378, 'accusing': 2379, 'list': 2380, 'privilage': 2381, 'pardon': 2382, 'waiting': 2383, 'lix': 2384, 'brains': 2385, \"beguil'd\": 2386, 'labouring': 2387, 'backward': 2388, 'hundred': 2389, 'courses': 2390, 'composed': 2391, 'mended': 2392, 'revolution': 2393, 'admiring': 2394, 'lx': 2395, 'waves': 2396, 'pebbled': 2397, 'hasten': 2398, 'sequent': 2399, 'forwards': 2400, 'contend': 2401, 'nativity': 2402, 'crawls': 2403, 'maturity': 2404, 'wherewith': 2405, 'transfix': 2406, 'flourish': 2407, 'delves': 2408, 'parallels': 2409, 'rarities': 2410, 'mow': 2411, 'lxi': 2412, 'slumbers': 2413, 'broken': 2414, \"send'st\": 2415, 'pry': 2416, 'tenure': 2417, 'jealousy': 2418, 'awake': 2419, 'defeat': 2420, 'watchman': 2421, 'wake': 2422, 'lxii': 2423, 'possesseth': 2424, 'define': 2425, 'worths': 2426, 'surmount': 2427, 'indeed': 2428, 'beated': 2429, \"chopp'd\": 2430, 'tanned': 2431, 'contrary': 2432, 'iniquity': 2433, 'lxiii': 2434, \"crush'd\": 2435, \"o'erworn\": 2436, \"drain'd\": 2437, \"travell'd\": 2438, 'steepy': 2439, \"he's\": 2440, 'vanishing': 2441, 'vanished': 2442, 'confounding': 2443, 'cut': 2444, \"lover's\": 2445, 'lxiv': 2446, \"defac'd\": 2447, 'towers': 2448, 'kingdom': 2449, 'firm': 2450, 'watery': 2451, 'interchange': 2452, 'confounded': 2453, 'ruin': 2454, 'ruminate': 2455, 'lxv': 2456, 'boundless': 2457, 'mortality': 2458, \"o'ersways\": 2459, 'honey': 2460, 'wrackful': 2461, 'siege': 2462, 'battering': 2463, 'rocks': 2464, 'impregnable': 2465, 'stout': 2466, 'gates': 2467, 'decays': 2468, 'fearful': 2469, 'meditation': 2470, 'spoil': 2471, 'miracle': 2472, 'lxvi': 2473, 'restful': 2474, 'beggar': 2475, 'needy': 2476, \"trimm'd\": 2477, 'jollity': 2478, 'purest': 2479, 'unhappily': 2480, 'shamefully': 2481, \"misplac'd\": 2482, 'rudely': 2483, 'strumpeted': 2484, 'wrongfully': 2485, \"disgrac'd\": 2486, 'limping': 2487, 'disabled': 2488, 'authority': 2489, 'doctor': 2490, \"miscall'd\": 2491, 'simplicity': 2492, 'captive': 2493, 'lxvii': 2494, 'impiety': 2495, 'achieve': 2496, 'lace': 2497, 'society': 2498, 'imitate': 2499, 'bankrupt': 2500, \"beggar'd\": 2501, 'blush': 2502, 'exchequer': 2503, 'gains': 2504, 'stores': 2505, 'lxviii': 2506, 'signs': 2507, 'durst': 2508, 'inhabit': 2509, 'tresses': 2510, 'sepulchres': 2511, 'shorn': 2512, 'fleece': 2513, 'robbing': 2514, 'dress': 2515, 'yore': 2516, 'lxix': 2517, 'voice': 2518, 'uttering': 2519, 'commend': 2520, 'accents': 2521, 'churls': 2522, 'matcheth': 2523, 'lxx': 2524, \"slander's\": 2525, \"woo'd\": 2526, 'vice': 2527, \"present'st\": 2528, 'unstained': 2529, 'passed': 2530, 'ambush': 2531, 'victor': 2532, \"charg'd\": 2533, \"enlarg'd\": 2534, 'kingdoms': 2535, 'owe': 2536, 'lxxi': 2537, 'surly': 2538, 'bell': 2539, 'warning': 2540, 'vilest': 2541, 'perhaps': 2542, 'compounded': 2543, 'clay': 2544, 'lxxii': 2545, 'task': 2546, 'recite': 2547, 'willingly': 2548, 'impart': 2549, 'shamed': 2550, 'lxxiii': 2551, 'boughs': 2552, 'choirs': 2553, 'late': 2554, 'sang': 2555, 'twilight': 2556, 'sunset': 2557, 'fadeth': 2558, 'seals': 2559, 'glowing': 2560, 'ashes': 2561, 'expire': 2562, \"consum'd\": 2563, \"nourish'd\": 2564, \"perceiv'st\": 2565, 'lxxiv': 2566, 'arrest': 2567, 'memorial': 2568, 'reviewest': 2569, 'review': 2570, 'consecrate': 2571, 'dregs': 2572, 'coward': 2573, \"wretch's\": 2574, 'remembered': 2575, 'contains': 2576, 'remains': 2577, 'lxxv': 2578, 'food': 2579, \"season'd\": 2580, 'strife': 2581, 'miser': 2582, 'enjoyer': 2583, 'filching': 2584, \"better'd\": 2585, 'feasting': 2586, 'clean': 2587, 'starved': 2588, 'pursuing': 2589, 'surfeit': 2590, 'gluttoning': 2591, 'lxxvi': 2592, 'variation': 2593, 'showing': 2594, 'proceed': 2595, 'always': 2596, 'dressing': 2597, 'spending': 2598, 'lxxvii': 2599, 'vacant': 2600, \"mind's\": 2601, 'imprint': 2602, 'mouthed': 2603, 'graves': 2604, \"dial's\": 2605, 'shady': 2606, 'stealth': 2607, 'progress': 2608, 'commit': 2609, 'blanks': 2610, 'children': 2611, 'nursed': 2612, \"deliver'd\": 2613, 'offices': 2614, 'enrich': 2615, 'lxxviii': 2616, 'invoked': 2617, 'alien': 2618, 'poesy': 2619, 'disperse': 2620, 'aloft': 2621, 'fly': 2622, 'feathers': 2623, \"learned's\": 2624, 'wing': 2625, 'compile': 2626, 'arts': 2627, 'graced': 2628, 'advance': 2629, 'lxxix': 2630, \"decay'd\": 2631, 'deserves': 2632, 'travail': 2633, 'worthier': 2634, 'stole': 2635, 'behaviour': 2636, 'afford': 2637, 'thank': 2638, 'owes': 2639, 'lxxx': 2640, 'faint': 2641, 'thereof': 2642, 'spends': 2643, 'proudest': 2644, 'inferior': 2645, 'broad': 2646, 'wilfully': 2647, 'shallowest': 2648, 'afloat': 2649, 'soundless': 2650, \"wrack'd\": 2651, 'boat': 2652, 'tall': 2653, 'building': 2654, 'goodly': 2655, 'lxxxi': 2656, 'epitaph': 2657, 'forgotten': 2658, 'immortal': 2659, 'entombed': 2660, 'breathers': 2661, 'breathes': 2662, 'mouths': 2663, 'lxxxii': 2664, 'attaint': 2665, \"o'erlook\": 2666, 'dedicated': 2667, 'writers': 2668, 'blessing': 2669, 'limit': 2670, 'enforced': 2671, 'fresher': 2672, 'stamp': 2673, 'bettering': 2674, \"devis'd\": 2675, 'strained': 2676, 'rhetoric': 2677, \"sympathiz'd\": 2678, \"abus'd\": 2679, 'lxxxiii': 2680, 'exceed': 2681, 'debt': 2682, 'slept': 2683, 'extant': 2684, 'modern': 2685, 'impute': 2686, 'impair': 2687, 'lxxxiv': 2688, 'confine': 2689, 'immured': 2690, 'equal': 2691, 'lean': 2692, 'penury': 2693, 'writes': 2694, 'dignifies': 2695, 'counterpart': 2696, 'admired': 2697, 'blessings': 2698, 'lxxxv': 2699, 'richly': 2700, \"compil'd\": 2701, 'muses': 2702, \"fil'd\": 2703, 'unlettered': 2704, 'clerk': 2705, \"'amen'\": 2706, 'hymn': 2707, 'able': 2708, \"polish'd\": 2709, 'refined': 2710, 'hearing': 2711, 'praised': 2712, \"''tis\": 2713, 'hindmost': 2714, 'lxxxvi': 2715, 'ripe': 2716, 'inhearse': 2717, 'struck': 2718, 'compeers': 2719, 'astonished': 2720, 'affable': 2721, 'familiar': 2722, 'ghost': 2723, 'gulls': 2724, 'intelligence': 2725, 'victors': 2726, 'countenance': 2727, 'enfeebled': 2728, 'lxxxvii': 2729, 'farewell': 2730, 'estimate': 2731, 'releasing': 2732, 'determinate': 2733, 'granting': 2734, 'deserving': 2735, 'patent': 2736, 'swerving': 2737, 'mistaking': 2738, 'misprision': 2739, 'waking': 2740, 'lxxxviii': 2741, \"dispos'd\": 2742, 'weakness': 2743, \"conceal'd\": 2744, 'attainted': 2745, 'gainer': 2746, 'lxxxix': 2747, 'lameness': 2748, 'halt': 2749, 'strangle': 2750, 'profane': 2751, 'debate': 2752, 'xc': 2753, 'join': 2754, 'drop': 2755, \"'scap'd\": 2756, 'rearward': 2757, \"conquer'd\": 2758, 'windy': 2759, 'rainy': 2760, 'linger': 2761, \"purpos'd\": 2762, 'overthrow': 2763, 'petty': 2764, 'griefs': 2765, 'onset': 2766, 'strains': 2767, \"compar'd\": 2768, 'xci': 2769, 'garments': 2770, 'fangled': 2771, 'hounds': 2772, 'particulars': 2773, 'richer': 2774, 'prouder': 2775, \"garments'\": 2776, 'horses': 2777, 'wretchcd': 2778, 'xcii': 2779, 'term': 2780, 'assured': 2781, 'depend': 2782, 'vex': 2783, 'revolt': 2784, 'xciii': 2785, 'supposing': 2786, 'deceived': 2787, 'hatred': 2788, \"many's\": 2789, 'history': 2790, 'moods': 2791, 'frowns': 2792, 'decree': 2793, 'workings': 2794, \"eve's\": 2795, 'apple': 2796, 'xciv': 2797, 'hurt': 2798, 'unmoved': 2799, 'rightly': 2800, 'inherit': 2801, 'lords': 2802, 'owners': 2803, 'stewards': 2804, 'outbraves': 2805, 'dignity': 2806, 'sourest': 2807, 'lilies': 2808, 'fester': 2809, 'xcv': 2810, 'fragrant': 2811, 'spot': 2812, 'budding': 2813, 'enclose': 2814, 'dispraise': 2815, 'naming': 2816, 'blesses': 2817, 'vices': 2818, 'habitation': 2819, 'chose': 2820, 'veil': 2821, 'heed': 2822, 'privilege': 2823, 'hardest': 2824, 'xcvi': 2825, 'wantonness': 2826, 'resort': 2827, 'finger': 2828, 'throned': 2829, 'queen': 2830, 'truths': 2831, 'translated': 2832, 'lambs': 2833, 'stern': 2834, 'wolf': 2835, 'lamb': 2836, 'translate': 2837, 'gazers': 2838, 'xcvii': 2839, 'fleeting': 2840, 'freezings': 2841, 'felt': 2842, \"december's\": 2843, 'everywhere': 2844, 'teeming': 2845, 'big': 2846, 'wanton': 2847, 'burden': 2848, \"widow'd\": 2849, 'wombs': 2850, \"lords'\": 2851, 'abundant': 2852, 'orphans': 2853, 'fruit': 2854, 'pleasures': 2855, 'cheer': 2856, 'dreading': 2857, 'xcviii': 2858, 'pied': 2859, \"dress'd\": 2860, 'trim': 2861, 'saturn': 2862, \"laugh'd\": 2863, \"leap'd\": 2864, 'lap': 2865, \"lily's\": 2866, 'vermilion': 2867, 'figures': 2868, 'xcix': 2869, 'forward': 2870, 'smells': 2871, 'purple': 2872, 'soft': 2873, 'dwells': 2874, 'grossly': 2875, 'lily': 2876, 'condemned': 2877, 'marjoram': 2878, 'hair': 2879, 'fearfully': 2880, 'third': 2881, \"annex'd\": 2882, 'theft': 2883, 'vengeful': 2884, \"forget'st\": 2885, \"spend'st\": 2886, 'fury': 2887, 'darkening': 2888, 'forgetful': 2889, 'redeem': 2890, 'idly': 2891, 'resty': 2892, 'wrinkle': 2893, 'graven': 2894, 'satire': 2895, 'spoils': 2896, 'faster': 2897, \"prevent'st\": 2898, 'ci': 2899, 'truant': 2900, 'amends': 2901, 'dignified': 2902, \"intermix'd'\": 2903, \"for't\": 2904, \"prais'd\": 2905, 'ages': 2906, 'cii': 2907, \"strengthen'd\": 2908, \"merchandiz'd\": 2909, 'esteeming': 2910, \"owner's\": 2911, 'publish': 2912, 'wont': 2913, 'philomel': 2914, 'front': 2915, 'stops': 2916, 'pipe': 2917, 'pleasant': 2918, 'mournful': 2919, 'hush': 2920, 'wild': 2921, 'burthens': 2922, 'bough': 2923, 'ciii': 2924, 'dulling': 2925, 'striving': 2926, 'mar': 2927, 'verses': 2928, 'gifts': 2929, 'civ': 2930, \"ey'd\": 2931, 'forests': 2932, 'shook': 2933, \"summers'\": 2934, 'springs': 2935, 'process': 2936, 'junes': 2937, \"burn'd\": 2938, 'figure': 2939, \"perceiv'd\": 2940, \"deceiv'd\": 2941, 'unbred': 2942, 'cv': 2943, 'idolatry': 2944, 'idol': 2945, 'alike': 2946, 'songs': 2947, 'expressing': 2948, 'difference': 2949, 'varying': 2950, 'themes': 2951, 'cvi': 2952, 'chronicle': 2953, 'wasted': 2954, 'descriptions': 2955, 'wights': 2956, 'beautiful': 2957, 'ladies': 2958, 'knights': 2959, 'blazon': 2960, 'lip': 2961, 'prophecies': 2962, 'prefiguring': 2963, 'looked': 2964, 'divining': 2965, 'cvii': 2966, 'prophetic': 2967, 'dreaming': 2968, 'eclipse': 2969, \"endur'd\": 2970, 'augurs': 2971, 'presage': 2972, 'incertainties': 2973, 'crown': 2974, 'proclaims': 2975, 'olives': 2976, 'endless': 2977, 'drops': 2978, 'balmy': 2979, 'subscribes': 2980, 'insults': 2981, 'tribes': 2982, \"tyrants'\": 2983, 'crests': 2984, 'tombs': 2985, 'cviii': 2986, \"figur'd\": 2987, 'register': 2988, 'prayers': 2989, \"hallow'd\": 2990, 'case': 2991, 'weighs': 2992, 'necessary': 2993, 'aye': 2994, 'cix': 2995, 'qualify': 2996, \"rang'd\": 2997, 'travels': 2998, \"exchang'd\": 2999, \"reign'd\": 3000, 'kinds': 3001, 'preposterously': 3002, \"stain'd\": 3003, 'universe': 3004, 'cx': 3005, 'motley': 3006, \"gor'd\": 3007, 'sold': 3008, 'cheap': 3009, 'offences': 3010, 'affections': 3011, \"look'd\": 3012, 'askance': 3013, 'blenches': 3014, 'essays': 3015, 'grind': 3016, 'try': 3017, 'older': 3018, 'cxi': 3019, 'harmful': 3020, 'breeds': 3021, \"subdu'd\": 3022, \"dyer's\": 3023, \"renew'd\": 3024, 'patient': 3025, 'eisel': 3026, 'penance': 3027, 'correct': 3028, 'correction': 3029, 'assure': 3030, 'cxii': 3031, 'impression': 3032, 'scandal': 3033, \"stamp'd\": 3034, \"steel'd\": 3035, 'changes': 3036, 'profound': 3037, 'abysm': 3038, 'throw': 3039, 'voices': 3040, \"adder's\": 3041, 'critic': 3042, 'flatterer': 3043, 'stopped': 3044, 'dispense': 3045, 'besides': 3046, 'cxiii': 3047, 'governs': 3048, 'function': 3049, 'partly': 3050, 'effectually': 3051, 'delivers': 3052, 'bird': 3053, 'latch': 3054, 'vision': 3055, \"rud'st\": 3056, 'gentlest': 3057, \"deformed'st\": 3058, 'creature': 3059, 'dove': 3060, 'shapes': 3061, 'feature': 3062, 'incapable': 3063, 'maketh': 3064, 'cxiv': 3065, \"monarch's\": 3066, 'saith': 3067, 'monsters': 3068, 'indigest': 3069, 'cherubins': 3070, 'resemble': 3071, 'beams': 3072, 'assemble': 3073, 'kingly': 3074, 'drinks': 3075, 'gust': 3076, \"'greeing\": 3077, 'cup': 3078, \"poison'd\": 3079, 'lesser': 3080, 'begin': 3081, 'cxv': 3082, 'knew': 3083, 'afterwards': 3084, 'reckoning': 3085, \"million'd\": 3086, 'accidents': 3087, 'creep': 3088, 'decrees': 3089, 'tan': 3090, \"sharp'st\": 3091, 'intents': 3092, 'divert': 3093, 'altering': 3094, 'fearing': 3095, 'tyranny': 3096, \"'now\": 3097, 'incertainty': 3098, 'crowning': 3099, 'cxvi': 3100, 'marriage': 3101, 'admit': 3102, 'impediments': 3103, 'bends': 3104, 'remover': 3105, 'fixed': 3106, 'tempests': 3107, 'wandering': 3108, \"worth's\": 3109, 'rosy': 3110, \"sickle's\": 3111, 'compass': 3112, 'weeks': 3113, 'error': 3114, 'cxvii': 3115, 'scanted': 3116, 'repay': 3117, 'frequent': 3118, \"purchas'd\": 3119, 'hoisted': 3120, 'transport': 3121, 'wilfulness': 3122, 'surmise': 3123, 'accumulate': 3124, 'shoot': 3125, \"waken'd\": 3126, 'appeal': 3127, 'cxviii': 3128, 'eager': 3129, 'sicken': 3130, 'sickness': 3131, 'purge': 3132, 'cloying': 3133, 'sauces': 3134, 'welfare': 3135, 'meetness': 3136, 'needing': 3137, 'anticipate': 3138, 'ills': 3139, 'medicine': 3140, \"cur'd\": 3141, 'lesson': 3142, 'drugs': 3143, 'poison': 3144, 'cxix': 3145, 'drunk': 3146, 'siren': 3147, 'limbecks': 3148, 'applying': 3149, 'spheres': 3150, 'fitted': 3151, 'distraction': 3152, 'madding': 3153, \"rebuk'd\": 3154, 'cxx': 3155, 'befriends': 3156, 'transgression': 3157, 'nerves': 3158, \"hammer'd\": 3159, \"you've\": 3160, \"pass'd\": 3161, 'weigh': 3162, \"suffer'd\": 3163, 'deepest': 3164, 'hard': 3165, 'hits': 3166, \"tender'd\": 3167, 'wounded': 3168, 'bosoms': 3169, 'fits': 3170, 'ransoms': 3171, 'cxxi': 3172, 'reproach': 3173, 'adulterate': 3174, 'salutation': 3175, 'sportive': 3176, 'frailer': 3177, 'spies': 3178, 'abuses': 3179, 'reckon': 3180, 'bevel': 3181, 'maintain': 3182, 'badness': 3183, 'cxxii': 3184, \"character'd\": 3185, 'lasting': 3186, 'beyond': 3187, 'faculty': 3188, 'subsist': 3189, 'oblivion': 3190, \"miss'd\": 3191, 'retention': 3192, 'tallies': 3193, 'score': 3194, 'import': 3195, 'forgetfulness': 3196, 'cxxiii': 3197, 'pyramids': 3198, 'novel': 3199, 'dressings': 3200, 'dates': 3201, 'admire': 3202, 'foist': 3203, 'rather': 3204, 'heard': 3205, 'registers': 3206, 'defy': 3207, 'wondering': 3208, 'records': 3209, 'continual': 3210, 'cxxiv': 3211, \"gather'd\": 3212, 'builded': 3213, 'accident': 3214, 'suffers': 3215, 'smiling': 3216, 'pomp': 3217, 'falls': 3218, 'blow': 3219, 'thralled': 3220, 'inviting': 3221, 'heretic': 3222, 'leases': 3223, \"number'd\": 3224, 'hugely': 3225, 'politic': 3226, 'drowns': 3227, 'fools': 3228, 'cxxv': 3229, \"were't\": 3230, 'extern': 3231, 'honouring': 3232, 'bases': 3233, 'ruining': 3234, 'dwellers': 3235, 'rent': 3236, 'compound': 3237, 'forgoing': 3238, 'savour': 3239, 'pitiful': 3240, 'thrivers': 3241, 'gazing': 3242, 'oblation': 3243, \"mix'd\": 3244, 'seconds': 3245, 'suborned': 3246, 'informer': 3247, \"impeach'd\": 3248, 'cxxvi': 3249, 'waning': 3250, \"show'st\": 3251, 'withering': 3252, 'wrack': 3253, 'goest': 3254, 'onwards': 3255, 'minion': 3256, 'detain': 3257, 'delayed': 3258, 'answered': 3259, 'quietus': 3260, 'cxxvii': 3261, 'counted': 3262, 'successive': 3263, \"slander'd\": 3264, 'fairing': 3265, \"art's\": 3266, 'borrowed': 3267, 'bower': 3268, 'raven': 3269, 'suited': 3270, \"sland'ring\": 3271, 'cxxviii': 3272, \"play'st\": 3273, 'gently': 3274, \"sway'st\": 3275, 'wiry': 3276, 'harvest': 3277, 'reap': 3278, \"wood's\": 3279, 'boldness': 3280, 'tickled': 3281, 'situation': 3282, 'dancing': 3283, 'chips': 3284, 'walk': 3285, 'gait': 3286, \"bless'd\": 3287, 'cxxix': 3288, 'savage': 3289, \"enjoy'd\": 3290, 'hunted': 3291, 'hated': 3292, \"swallow'd\": 3293, 'bait': 3294, 'taker': 3295, 'bliss': 3296, \"propos'd\": 3297, 'cxxx': 3298, 'coral': 3299, 'snow': 3300, 'breasts': 3301, 'dun': 3302, 'hairs': 3303, \"damask'd\": 3304, 'reeks': 3305, 'treads': 3306, 'cxxxi': 3307, 'tyrannous': 3308, 'proudly': 3309, 'err': 3310, 'groans': 3311, 'neck': 3312, \"judgment's\": 3313, 'proceeds': 3314, 'cxxxii': 3315, 'pitying': 3316, 'ruth': 3317, 'grey': 3318, 'east': 3319, 'ushers': 3320, 'sober': 3321, 'become': 3322, 'beseem': 3323, 'herself': 3324, 'cxxxiii': 3325, 'beshrew': 3326, 'slavery': 3327, \"sweet'st\": 3328, 'harder': 3329, \"engross'd\": 3330, 'forsaken': 3331, 'fold': 3332, \"cross'd\": 3333, 'prison': 3334, 'ward': 3335, \"whoe'er\": 3336, 'rigour': 3337, 'jail': 3338, 'perforce': 3339, 'cxxxiv': 3340, \"confess'd\": 3341, \"mortgag'd\": 3342, 'restore': 3343, 'covetous': 3344, \"learn'd\": 3345, 'surety': 3346, 'bond': 3347, 'bind': 3348, 'statute': 3349, \"putt'st\": 3350, 'sue': 3351, 'debtor': 3352, 'whole': 3353, 'cxxxv': 3354, 'whoever': 3355, 'boot': 3356, 'plus': 3357, \"vex'd\": 3358, 'spacious': 3359, 'acceptance': 3360, 'addeth': 3361, \"'no'\": 3362, 'beseechers': 3363, 'cxxxvi': 3364, 'admitted': 3365, \"reckon'd\": 3366, 'untold': 3367, \"store's\": 3368, 'cxxxvii': 3369, 'partial': 3370, \"anchor'd\": 3371, 'bay': 3372, \"eyes'\": 3373, 'forged': 3374, 'hooks': 3375, 'plot': 3376, \"err'd\": 3377, \"transferr'd\": 3378, 'cxxxviii': 3379, 'swears': 3380, \"untutor'd\": 3381, 'unlearned': 3382, 'subtleties': 3383, 'simply': 3384, 'sides': 3385, 'suppressed': 3386, 'unjust': 3387, 'habit': 3388, \"flatter'd\": 3389, 'cxxxix': 3390, 'justify': 3391, 'slay': 3392, \"need'st\": 3393, \"o'erpress'd\": 3394, 'dart': 3395, 'outright': 3396, 'rid': 3397, 'cxl': 3398, 'press': 3399, 'manner': 3400, 'testy': 3401, 'news': 3402, 'physicians': 3403, 'madness': 3404, 'wresting': 3405, 'slanderers': 3406, 'believed': 3407, 'cxli': 3408, 'pleased': 3409, \"tongue's\": 3410, 'tune': 3411, 'delighted': 3412, 'prone': 3413, 'invited': 3414, 'senses': 3415, 'dissuade': 3416, 'foolish': 3417, \"unsway'd\": 3418, 'likeness': 3419, 'awards': 3420, 'cxlii': 3421, 'merits': 3422, 'reproving': 3423, 'scarlet': 3424, 'ornaments': 3425, \"seal'd\": 3426, \"robb'd\": 3427, \"beds'\": 3428, 'revenues': 3429, 'rents': 3430, 'woo': 3431, 'importune': 3432, 'deserve': 3433, 'pitied': 3434, 'denied': 3435, 'cxliii': 3436, 'housewife': 3437, 'runs': 3438, \"feather'd\": 3439, 'dispatch': 3440, 'neglected': 3441, 'busy': 3442, 'prizing': 3443, \"infant's\": 3444, \"runn'st\": 3445, 'afar': 3446, 'pray': 3447, 'loud': 3448, 'crying': 3449, 'cxliv': 3450, 'suggest': 3451, 'worser': 3452, \"colour'd\": 3453, 'female': 3454, 'tempteth': 3455, 'saint': 3456, 'devil': 3457, 'wooing': 3458, 'purity': 3459, 'doubt': 3460, 'cxlv': 3461, 'breathed': 3462, \"languish'd\": 3463, 'woeful': 3464, 'mercy': 3465, 'chiding': 3466, 'followed': 3467, 'flown': 3468, 'threw': 3469, \"sav'd\": 3470, 'saying': 3471, \"'not\": 3472, \"you'\": 3473, 'cxlvi': 3474, 'centre': 3475, 'rebel': 3476, 'powers': 3477, 'dearth': 3478, 'costly': 3479, 'inheritors': 3480, 'excess': 3481, \"servant's\": 3482, 'aggravate': 3483, 'buy': 3484, 'selling': 3485, 'dross': 3486, 'fed': 3487, 'feed': 3488, \"there's\": 3489, 'dying': 3490, 'cxlvii': 3491, 'longing': 3492, 'nurseth': 3493, 'disease': 3494, 'uncertain': 3495, 'sickly': 3496, 'physician': 3497, 'angry': 3498, 'prescriptions': 3499, 'desperate': 3500, 'frantic': 3501, 'unrest': 3502, 'discourse': 3503, \"madmen's\": 3504, 'random': 3505, 'cxlviii': 3506, 'correspondence': 3507, 'censures': 3508, 'falsely': 3509, 'aright': 3510, 'denote': 3511, 'vexed': 3512, 'watching': 3513, 'marvel': 3514, 'mistake': 3515, 'sees': 3516, 'clears': 3517, \"keep'st\": 3518, 'cxlix': 3519, 'partake': 3520, 'hateth': 3521, \"frown'st\": 3522, 'fawn': 3523, \"lour'st\": 3524, 'revenge': 3525, 'worship': 3526, 'commanded': 3527, 'cl': 3528, 'insufficiency': 3529, 'brightness': 3530, 'refuse': 3531, 'warrantise': 3532, 'exceeds': 3533, 'unworthiness': 3534, \"rais'd\": 3535, 'cli': 3536, 'cheater': 3537, 'betraying': 3538, 'nobler': 3539, 'treason': 3540, 'stays': 3541, 'rising': 3542, 'drudge': 3543, \"'love\": 3544, 'clii': 3545, 'swearing': 3546, 'act': 3547, 'torn': 3548, 'vowing': 3549, \"oaths'\": 3550, 'twenty': 3551, 'misuse': 3552, 'honest': 3553, 'enlighten': 3554, 'blindness': 3555, 'cliii': 3556, 'maid': 3557, \"dian's\": 3558, 'kindling': 3559, 'quickly': 3560, 'valley': 3561, 'fountain': 3562, \"borrow'd\": 3563, 'endure': 3564, 'seeting': 3565, 'fired': 3566, 'trial': 3567, 'touch': 3568, 'withal': 3569, 'thither': 3570, 'hied': 3571, \"distemper'd\": 3572, 'cliv': 3573, 'lying': 3574, 'inflaming': 3575, 'nymphs': 3576, \"vow'd\": 3577, 'chaste': 3578, 'tripping': 3579, 'votary': 3580, 'legions': 3581, \"warm'd\": 3582, 'sleeping': 3583, 'virgin': 3584, \"disarm'd\": 3585, 'quenched': 3586, 'cool': 3587, 'thrall': 3588, 'heats': 3589, 'cools': 3590, \"gutenberg's\": 3591, 'named': 3592, 'txt': 3593, 'zip': 3594, 'various': 3595, 'http': 3596, '0': 3597, 'replace': 3598, 'previous': 3599, 'renamed': 3600, 'apply': 3601, 'specific': 3602, 'reports': 3603, 'performances': 3604, 'modified': 3605, 'practically': 3606, 'especially': 3607, 'commercial': 3608, 'reading': 3609, 'indicate': 3610, 'understand': 3611, 'accept': 3612, 'lot': 3613, 'compilation': 3614, 'claim': 3615, 'sharing': 3616, 'easily': 3617, 'attached': 3618, 'd': 3619, 'govern': 3620, 'countries': 3621, 'downloading': 3622, 'representations': 3623, 'whenever': 3624, 'accessed': 3625, 'displayed': 3626, 'performed': 3627, 'viewed': 3628, 'derived': 3629, 'indicating': 3630, 'charges': 3631, 'imposed': 3632, 'linked': 3633, 'beginning': 3634, 'unlink': 3635, 'detach': 3636, 'containing': 3637, 'display': 3638, 'perform': 3639, 'redistribute': 3640, 'convert': 3641, 'binary': 3642, 'compressed': 3643, 'nonproprietary': 3644, 'proprietary': 3645, 'processing': 3646, 'hypertext': 3647, 'however': 3648, 'exporting': 3649, 'request': 3650, 'original': 3651, 'alternate': 3652, 'include': 3653, 'viewing': 3654, 'reasonable': 3655, '20': 3656, 'profits': 3657, 'calculated': 3658, 'method': 3659, 'calculate': 3660, 'taxes': 3661, 'owed': 3662, 'agreed': 3663, '60': 3664, 'legally': 3665, 'required': 3666, 'periodic': 3667, 'returns': 3668, 'clearly': 3669, 'sent': 3670, 'address': 3671, 'notifies': 3672, 'mail': 3673, '30': 3674, 'possessed': 3675, 'discontinue': 3676, 'discovered': 3677, 'reported': 3678, 'group': 3679, 'expend': 3680, 'identify': 3681, 'transcribe': 3682, 'proofread': 3683, 'stored': 3684, 'incomplete': 3685, 'inaccurate': 3686, 'data': 3687, 'transcription': 3688, 'infringement': 3689, 'damaged': 3690, 'disk': 3691, 'virus': 3692, 'codes': 3693, 'described': 3694, 'disclaim': 3695, 'remedies': 3696, 'negligence': 3697, 'strict': 3698, 'contract': 3699, 'distributor': 3700, 'liable': 3701, 'actual': 3702, 'direct': 3703, 'indirect': 3704, 'consequential': 3705, 'punitive': 3706, 'incidental': 3707, 'possibility': 3708, 'discover': 3709, 'sending': 3710, 'elect': 3711, 'opportunity': 3712, 'demand': 3713, 'further': 3714, 'opportunities': 3715, 'fix': 3716, 'problem': 3717, \"'as\": 3718, \"is'\": 3719, 'merchantability': 3720, 'fitness': 3721, 'disclaimers': 3722, 'exclusion': 3723, 'types': 3724, 'violates': 3725, 'interpreted': 3726, 'maximum': 3727, 'invalidity': 3728, 'unenforceability': 3729, 'provision': 3730, 'void': 3731, 'remaining': 3732, 'provisions': 3733, 'indemnity': 3734, 'indemnify': 3735, 'agent': 3736, 'employee': 3737, 'production': 3738, 'promotion': 3739, 'harmless': 3740, 'occur': 3741, 'modification': 3742, 'additions': 3743, 'deletions': 3744, 'synonymous': 3745, 'variety': 3746, 'obsolete': 3747, 'aged': 3748, 'exists': 3749, 'hundreds': 3750, 'financial': 3751, 'critical': 3752, 'reaching': 3753, \"tm's\": 3754, 'goals': 3755, 'ensuring': 3756, '2001': 3757, 'secure': 3758, 'permanent': 3759, 'sections': 3760, 'non': 3761, '501': 3762, 'educational': 3763, 'corporation': 3764, 'organized': 3765, 'mississippi': 3766, 'granted': 3767, 'internal': 3768, 'revenue': 3769, 'ein': 3770, 'identification': 3771, '64': 3772, '6221541': 3773, 'deductible': 3774, 'extent': 3775, \"state's\": 3776, 'principal': 3777, '4557': 3778, 'melan': 3779, 'fairbanks': 3780, 'ak': 3781, '99712': 3782, 'scattered': 3783, 'throughout': 3784, 'numerous': 3785, 'business': 3786, '809': 3787, 'north': 3788, '1500': 3789, 'salt': 3790, 'lake': 3791, 'city': 3792, 'ut': 3793, '84116': 3794, '801': 3795, '596': 3796, '1887': 3797, 'gregory': 3798, 'newby': 3799, 'executive': 3800, 'director': 3801, 'gbnewby': 3802, 'licensed': 3803, 'machine': 3804, 'accessible': 3805, 'outdated': 3806, '000': 3807, 'particularly': 3808, 'important': 3809, 'maintaining': 3810, 'irs': 3811, 'regulating': 3812, 'charities': 3813, 'charitable': 3814, '50': 3815, 'uniform': 3816, 'paperwork': 3817, 'confirmation': 3818, 'determine': 3819, 'met': 3820, 'solicitation': 3821, 'prohibition': 3822, 'accepting': 3823, 'unsolicited': 3824, 'donors': 3825, 'approach': 3826, 'offers': 3827, 'international': 3828, 'gratefully': 3829, 'statements': 3830, 'treatment': 3831, 'swamp': 3832, 'staff': 3833, 'pages': 3834, 'current': 3835, 'donation': 3836, 'addresses': 3837, 'ways': 3838, 'checks': 3839, 'card': 3840, 'professor': 3841, 'originator': 3842, 'shared': 3843, 'loose': 3844, 'network': 3845, 'volunteer': 3846, 'confirmed': 3847, 'necessarily': 3848, 'edition': 3849, 'pg': 3850, 'search': 3851, 'facility': 3852, 'includes': 3853, 'produce': 3854, 'subscribe': 3855, 'newsletter': 3856}\n",
            "3857\n"
          ],
          "name": "stdout"
        }
      ]
    },
    {
      "cell_type": "code",
      "metadata": {
        "id": "G5s9cpkVt9lt",
        "colab_type": "code",
        "colab": {}
      },
      "source": [
        "input_sequences = []\n",
        "for line in corpus:\n",
        "  token_list = tokenizer.texts_to_sequences([line])[0]\n",
        "  for i in range(1, len(token_list)):\n",
        "    n_gram_sequence = token_list[:i+1]\n",
        "    input_sequences.append(n_gram_sequence)"
      ],
      "execution_count": 3,
      "outputs": []
    },
    {
      "cell_type": "code",
      "metadata": {
        "id": "WDMG1i4T11eb",
        "colab_type": "code",
        "colab": {}
      },
      "source": [
        "#padding\n",
        "max_sequence_length = max([len(x) for x in input_sequences])\n",
        "input_sequences = np.array(pad_sequences(input_sequences, maxlen = max_sequence_length, padding = 'pre'))"
      ],
      "execution_count": 4,
      "outputs": []
    },
    {
      "cell_type": "code",
      "metadata": {
        "id": "evuZ1n3m2QkB",
        "colab_type": "code",
        "colab": {}
      },
      "source": [
        "# labels and predictors\n",
        "Xs = input_sequences[:,:-1]\n",
        "labels = input_sequences[:,-1]\n",
        "Ys = tf.keras.utils.to_categorical(labels, num_classes = total_words)"
      ],
      "execution_count": 7,
      "outputs": []
    },
    {
      "cell_type": "code",
      "metadata": {
        "id": "FB6lvx3b2TdH",
        "colab_type": "code",
        "colab": {
          "base_uri": "https://localhost:8080/",
          "height": 229
        },
        "outputId": "179b2564-926e-48c4-8ce8-f499965ce2ae"
      },
      "source": [
        "print(words['I'])\n",
        "print(words['From'])\n",
        "print(words['fariest'])\n",
        "print(words['creatures'])\n",
        "print(words['we'])\n",
        "print(words['desire'])\n",
        "print(words['increase'])"
      ],
      "execution_count": 9,
      "outputs": [
        {
          "output_type": "error",
          "ename": "KeyError",
          "evalue": "ignored",
          "traceback": [
            "\u001b[0;31m---------------------------------------------------------------------------\u001b[0m",
            "\u001b[0;31mKeyError\u001b[0m                                  Traceback (most recent call last)",
            "\u001b[0;32m<ipython-input-9-f6c7d57898be>\u001b[0m in \u001b[0;36m<module>\u001b[0;34m()\u001b[0m\n\u001b[0;32m----> 1\u001b[0;31m \u001b[0mprint\u001b[0m\u001b[0;34m(\u001b[0m\u001b[0mwords\u001b[0m\u001b[0;34m[\u001b[0m\u001b[0;34m'I'\u001b[0m\u001b[0;34m]\u001b[0m\u001b[0;34m)\u001b[0m\u001b[0;34m\u001b[0m\u001b[0;34m\u001b[0m\u001b[0m\n\u001b[0m\u001b[1;32m      2\u001b[0m \u001b[0mprint\u001b[0m\u001b[0;34m(\u001b[0m\u001b[0mwords\u001b[0m\u001b[0;34m[\u001b[0m\u001b[0;34m'From'\u001b[0m\u001b[0;34m]\u001b[0m\u001b[0;34m)\u001b[0m\u001b[0;34m\u001b[0m\u001b[0;34m\u001b[0m\u001b[0m\n\u001b[1;32m      3\u001b[0m \u001b[0mprint\u001b[0m\u001b[0;34m(\u001b[0m\u001b[0mwords\u001b[0m\u001b[0;34m[\u001b[0m\u001b[0;34m'fariest'\u001b[0m\u001b[0;34m]\u001b[0m\u001b[0;34m)\u001b[0m\u001b[0;34m\u001b[0m\u001b[0;34m\u001b[0m\u001b[0m\n\u001b[1;32m      4\u001b[0m \u001b[0mprint\u001b[0m\u001b[0;34m(\u001b[0m\u001b[0mwords\u001b[0m\u001b[0;34m[\u001b[0m\u001b[0;34m'creatures'\u001b[0m\u001b[0;34m]\u001b[0m\u001b[0;34m)\u001b[0m\u001b[0;34m\u001b[0m\u001b[0;34m\u001b[0m\u001b[0m\n\u001b[1;32m      5\u001b[0m \u001b[0mprint\u001b[0m\u001b[0;34m(\u001b[0m\u001b[0mwords\u001b[0m\u001b[0;34m[\u001b[0m\u001b[0;34m'we'\u001b[0m\u001b[0;34m]\u001b[0m\u001b[0;34m)\u001b[0m\u001b[0;34m\u001b[0m\u001b[0;34m\u001b[0m\u001b[0m\n",
            "\u001b[0;31mKeyError\u001b[0m: 'I'"
          ]
        }
      ]
    },
    {
      "cell_type": "code",
      "metadata": {
        "id": "irli5n2A2UHo",
        "colab_type": "code",
        "colab": {
          "base_uri": "https://localhost:8080/",
          "height": 50
        },
        "outputId": "3529a875-1207-466b-aaef-9743d03e17ea"
      },
      "source": [
        "print(Xs[5])"
      ],
      "execution_count": null,
      "outputs": [
        {
          "output_type": "stream",
          "text": [
            "[   0    0    0    0    0    0    0    0    0   51   12   96 1217   48\n",
            "    2]\n"
          ],
          "name": "stdout"
        }
      ]
    },
    {
      "cell_type": "code",
      "metadata": {
        "id": "sb4wpAwO2UOc",
        "colab_type": "code",
        "colab": {
          "base_uri": "https://localhost:8080/",
          "height": 34
        },
        "outputId": "b267957f-c6c8-47f3-d64d-ca27f35a304b"
      },
      "source": [
        "print(Ys[5])"
      ],
      "execution_count": null,
      "outputs": [
        {
          "output_type": "stream",
          "text": [
            "[0. 0. 0. ... 0. 0. 0.]\n"
          ],
          "name": "stdout"
        }
      ]
    },
    {
      "cell_type": "code",
      "metadata": {
        "id": "pSPZZf5v2UVa",
        "colab_type": "code",
        "colab": {
          "base_uri": "https://localhost:8080/",
          "height": 1000
        },
        "outputId": "cedd70bf-6f9a-4af4-9a02-75f2b93e04c1"
      },
      "source": [
        "model = Sequential()\n",
        "model.add(Embedding(total_words, 120, input_length = max_sequence_length-1))\n",
        "model.add(Bidirectional(LSTM(300)))\n",
        "model.add(Dense(total_words, activation = 'softmax'))\n",
        "adam = Adam(lr = 0.001)\n",
        "model.compile(loss = 'categorical_crossentropy', optimizer = adam, metrics = ['accuracy'])\n",
        "history = model.fit(Xs, Ys, epochs = 100, verbose = 1)\n",
        "print(model)"
      ],
      "execution_count": 24,
      "outputs": [
        {
          "output_type": "stream",
          "text": [
            "Epoch 1/100\n",
            "574/574 [==============================] - 7s 12ms/step - loss: 6.9407 - accuracy: 0.0278\n",
            "Epoch 2/100\n",
            "574/574 [==============================] - 7s 13ms/step - loss: 6.4129 - accuracy: 0.0478\n",
            "Epoch 3/100\n",
            "574/574 [==============================] - 7s 12ms/step - loss: 6.0128 - accuracy: 0.0648\n",
            "Epoch 4/100\n",
            "574/574 [==============================] - 7s 12ms/step - loss: 5.5731 - accuracy: 0.0831\n",
            "Epoch 5/100\n",
            "574/574 [==============================] - 7s 12ms/step - loss: 5.0618 - accuracy: 0.1095\n",
            "Epoch 6/100\n",
            "574/574 [==============================] - 7s 12ms/step - loss: 4.4696 - accuracy: 0.1476\n",
            "Epoch 7/100\n",
            "574/574 [==============================] - 7s 12ms/step - loss: 3.8391 - accuracy: 0.2199\n",
            "Epoch 8/100\n",
            "574/574 [==============================] - 7s 12ms/step - loss: 3.2211 - accuracy: 0.3287\n",
            "Epoch 9/100\n",
            "574/574 [==============================] - 7s 12ms/step - loss: 2.6794 - accuracy: 0.4315\n",
            "Epoch 10/100\n",
            "574/574 [==============================] - 7s 12ms/step - loss: 2.2387 - accuracy: 0.5249\n",
            "Epoch 11/100\n",
            "574/574 [==============================] - 7s 12ms/step - loss: 1.8771 - accuracy: 0.6007\n",
            "Epoch 12/100\n",
            "574/574 [==============================] - 7s 12ms/step - loss: 1.5854 - accuracy: 0.6702\n",
            "Epoch 13/100\n",
            "574/574 [==============================] - 7s 12ms/step - loss: 1.3453 - accuracy: 0.7269\n",
            "Epoch 14/100\n",
            "574/574 [==============================] - 7s 12ms/step - loss: 1.1544 - accuracy: 0.7673\n",
            "Epoch 15/100\n",
            "574/574 [==============================] - 7s 13ms/step - loss: 1.0110 - accuracy: 0.7954\n",
            "Epoch 16/100\n",
            "574/574 [==============================] - 7s 12ms/step - loss: 0.8955 - accuracy: 0.8176\n",
            "Epoch 17/100\n",
            "574/574 [==============================] - 7s 12ms/step - loss: 0.8139 - accuracy: 0.8304\n",
            "Epoch 18/100\n",
            "574/574 [==============================] - 7s 12ms/step - loss: 0.7487 - accuracy: 0.8406\n",
            "Epoch 19/100\n",
            "574/574 [==============================] - 7s 13ms/step - loss: 0.7008 - accuracy: 0.8461\n",
            "Epoch 20/100\n",
            "574/574 [==============================] - 7s 12ms/step - loss: 0.6695 - accuracy: 0.8513\n",
            "Epoch 21/100\n",
            "574/574 [==============================] - 7s 12ms/step - loss: 0.6432 - accuracy: 0.8534\n",
            "Epoch 22/100\n",
            "574/574 [==============================] - 7s 12ms/step - loss: 0.6209 - accuracy: 0.8561\n",
            "Epoch 23/100\n",
            "574/574 [==============================] - 7s 13ms/step - loss: 0.6081 - accuracy: 0.8564\n",
            "Epoch 24/100\n",
            "574/574 [==============================] - 7s 13ms/step - loss: 0.5905 - accuracy: 0.8593\n",
            "Epoch 25/100\n",
            "574/574 [==============================] - 7s 12ms/step - loss: 0.5759 - accuracy: 0.8596\n",
            "Epoch 26/100\n",
            "574/574 [==============================] - 7s 12ms/step - loss: 0.5727 - accuracy: 0.8597\n",
            "Epoch 27/100\n",
            "574/574 [==============================] - 7s 12ms/step - loss: 0.5637 - accuracy: 0.8599\n",
            "Epoch 28/100\n",
            "574/574 [==============================] - 7s 13ms/step - loss: 0.5551 - accuracy: 0.8603\n",
            "Epoch 29/100\n",
            "574/574 [==============================] - 7s 13ms/step - loss: 0.5455 - accuracy: 0.8611\n",
            "Epoch 30/100\n",
            "574/574 [==============================] - 7s 13ms/step - loss: 0.5400 - accuracy: 0.8624\n",
            "Epoch 31/100\n",
            "574/574 [==============================] - 7s 12ms/step - loss: 0.5379 - accuracy: 0.8610\n",
            "Epoch 32/100\n",
            "574/574 [==============================] - 7s 13ms/step - loss: 0.5344 - accuracy: 0.8612\n",
            "Epoch 33/100\n",
            "574/574 [==============================] - 7s 13ms/step - loss: 0.5349 - accuracy: 0.8605\n",
            "Epoch 34/100\n",
            "574/574 [==============================] - 7s 12ms/step - loss: 0.5284 - accuracy: 0.8613\n",
            "Epoch 35/100\n",
            "574/574 [==============================] - 7s 13ms/step - loss: 0.5254 - accuracy: 0.8606\n",
            "Epoch 36/100\n",
            "574/574 [==============================] - 7s 13ms/step - loss: 0.5173 - accuracy: 0.8612\n",
            "Epoch 37/100\n",
            "574/574 [==============================] - 7s 13ms/step - loss: 0.5139 - accuracy: 0.8622\n",
            "Epoch 38/100\n",
            "574/574 [==============================] - 7s 13ms/step - loss: 0.5104 - accuracy: 0.8615\n",
            "Epoch 39/100\n",
            "574/574 [==============================] - 7s 13ms/step - loss: 0.5079 - accuracy: 0.8617\n",
            "Epoch 40/100\n",
            "574/574 [==============================] - 7s 13ms/step - loss: 0.5042 - accuracy: 0.8630\n",
            "Epoch 41/100\n",
            "574/574 [==============================] - 7s 13ms/step - loss: 0.5160 - accuracy: 0.8593\n",
            "Epoch 42/100\n",
            "574/574 [==============================] - 8s 13ms/step - loss: 0.5306 - accuracy: 0.8569\n",
            "Epoch 43/100\n",
            "574/574 [==============================] - 7s 13ms/step - loss: 0.5006 - accuracy: 0.8624\n",
            "Epoch 44/100\n",
            "574/574 [==============================] - 7s 13ms/step - loss: 0.4948 - accuracy: 0.8610\n",
            "Epoch 45/100\n",
            "574/574 [==============================] - 7s 13ms/step - loss: 0.4929 - accuracy: 0.8617\n",
            "Epoch 46/100\n",
            "574/574 [==============================] - 7s 13ms/step - loss: 0.4909 - accuracy: 0.8621\n",
            "Epoch 47/100\n",
            "574/574 [==============================] - 7s 13ms/step - loss: 0.4935 - accuracy: 0.8626\n",
            "Epoch 48/100\n",
            "574/574 [==============================] - 7s 13ms/step - loss: 0.4905 - accuracy: 0.8626\n",
            "Epoch 49/100\n",
            "574/574 [==============================] - 7s 13ms/step - loss: 0.4887 - accuracy: 0.8629\n",
            "Epoch 50/100\n",
            "574/574 [==============================] - 7s 13ms/step - loss: 0.4879 - accuracy: 0.8621\n",
            "Epoch 51/100\n",
            "574/574 [==============================] - 7s 13ms/step - loss: 0.4863 - accuracy: 0.8618\n",
            "Epoch 52/100\n",
            "574/574 [==============================] - 7s 13ms/step - loss: 0.4971 - accuracy: 0.8598\n",
            "Epoch 53/100\n",
            "574/574 [==============================] - 7s 13ms/step - loss: 0.5113 - accuracy: 0.8568\n",
            "Epoch 54/100\n",
            "574/574 [==============================] - 7s 13ms/step - loss: 0.4863 - accuracy: 0.8613\n",
            "Epoch 55/100\n",
            "574/574 [==============================] - 7s 13ms/step - loss: 0.4787 - accuracy: 0.8613\n",
            "Epoch 56/100\n",
            "574/574 [==============================] - 7s 13ms/step - loss: 0.4759 - accuracy: 0.8618\n",
            "Epoch 57/100\n",
            "574/574 [==============================] - 7s 13ms/step - loss: 0.4765 - accuracy: 0.8621\n",
            "Epoch 58/100\n",
            "574/574 [==============================] - 7s 13ms/step - loss: 0.4761 - accuracy: 0.8627\n",
            "Epoch 59/100\n",
            "574/574 [==============================] - 7s 13ms/step - loss: 0.4751 - accuracy: 0.8633\n",
            "Epoch 60/100\n",
            "574/574 [==============================] - 7s 13ms/step - loss: 0.4769 - accuracy: 0.8617\n",
            "Epoch 61/100\n",
            "574/574 [==============================] - 7s 13ms/step - loss: 0.4767 - accuracy: 0.8625\n",
            "Epoch 62/100\n",
            "574/574 [==============================] - 7s 13ms/step - loss: 0.4971 - accuracy: 0.8573\n",
            "Epoch 63/100\n",
            "574/574 [==============================] - 7s 13ms/step - loss: 0.4916 - accuracy: 0.8588\n",
            "Epoch 64/100\n",
            "574/574 [==============================] - 7s 13ms/step - loss: 0.4705 - accuracy: 0.8619\n",
            "Epoch 65/100\n",
            "574/574 [==============================] - 7s 13ms/step - loss: 0.4674 - accuracy: 0.8625\n",
            "Epoch 66/100\n",
            "574/574 [==============================] - 7s 13ms/step - loss: 0.4677 - accuracy: 0.8618\n",
            "Epoch 67/100\n",
            "574/574 [==============================] - 7s 13ms/step - loss: 0.4686 - accuracy: 0.8627\n",
            "Epoch 68/100\n",
            "574/574 [==============================] - 7s 13ms/step - loss: 0.4685 - accuracy: 0.8630\n",
            "Epoch 69/100\n",
            "574/574 [==============================] - 7s 13ms/step - loss: 0.4696 - accuracy: 0.8627\n",
            "Epoch 70/100\n",
            "574/574 [==============================] - 7s 13ms/step - loss: 0.4698 - accuracy: 0.8627\n",
            "Epoch 71/100\n",
            "574/574 [==============================] - 7s 13ms/step - loss: 0.4660 - accuracy: 0.8647\n",
            "Epoch 72/100\n",
            "574/574 [==============================] - 7s 13ms/step - loss: 0.4747 - accuracy: 0.8610\n",
            "Epoch 73/100\n",
            "574/574 [==============================] - 7s 13ms/step - loss: 0.4998 - accuracy: 0.8562\n",
            "Epoch 74/100\n",
            "574/574 [==============================] - 7s 13ms/step - loss: 0.4714 - accuracy: 0.8615\n",
            "Epoch 75/100\n",
            "574/574 [==============================] - 7s 13ms/step - loss: 0.4603 - accuracy: 0.8631\n",
            "Epoch 76/100\n",
            "574/574 [==============================] - 7s 13ms/step - loss: 0.4594 - accuracy: 0.8624\n",
            "Epoch 77/100\n",
            "574/574 [==============================] - 7s 13ms/step - loss: 0.4599 - accuracy: 0.8633\n",
            "Epoch 78/100\n",
            "574/574 [==============================] - 7s 13ms/step - loss: 0.4609 - accuracy: 0.8631\n",
            "Epoch 79/100\n",
            "574/574 [==============================] - 7s 13ms/step - loss: 0.4610 - accuracy: 0.8629\n",
            "Epoch 80/100\n",
            "574/574 [==============================] - 7s 13ms/step - loss: 0.4615 - accuracy: 0.8636\n",
            "Epoch 81/100\n",
            "574/574 [==============================] - 7s 13ms/step - loss: 0.4616 - accuracy: 0.8634\n",
            "Epoch 82/100\n",
            "574/574 [==============================] - 7s 12ms/step - loss: 0.4721 - accuracy: 0.8608\n",
            "Epoch 83/100\n",
            "574/574 [==============================] - 7s 12ms/step - loss: 0.4984 - accuracy: 0.8545\n",
            "Epoch 84/100\n",
            "574/574 [==============================] - 7s 13ms/step - loss: 0.4641 - accuracy: 0.8611\n",
            "Epoch 85/100\n",
            "574/574 [==============================] - 8s 13ms/step - loss: 0.4546 - accuracy: 0.8640\n",
            "Epoch 86/100\n",
            "574/574 [==============================] - 7s 13ms/step - loss: 0.4554 - accuracy: 0.8621\n",
            "Epoch 87/100\n",
            "574/574 [==============================] - 7s 13ms/step - loss: 0.4551 - accuracy: 0.8625\n",
            "Epoch 88/100\n",
            "574/574 [==============================] - 7s 13ms/step - loss: 0.4581 - accuracy: 0.8619\n",
            "Epoch 89/100\n",
            "574/574 [==============================] - 8s 14ms/step - loss: 0.4582 - accuracy: 0.8627\n",
            "Epoch 90/100\n",
            "574/574 [==============================] - 7s 13ms/step - loss: 0.4584 - accuracy: 0.8626\n",
            "Epoch 91/100\n",
            "574/574 [==============================] - 7s 13ms/step - loss: 0.4564 - accuracy: 0.8635\n",
            "Epoch 92/100\n",
            "574/574 [==============================] - 7s 13ms/step - loss: 0.4581 - accuracy: 0.8640\n",
            "Epoch 93/100\n",
            "574/574 [==============================] - 7s 13ms/step - loss: 0.4591 - accuracy: 0.8623\n",
            "Epoch 94/100\n",
            "574/574 [==============================] - 7s 13ms/step - loss: 0.4806 - accuracy: 0.8576\n",
            "Epoch 95/100\n",
            "574/574 [==============================] - 7s 13ms/step - loss: 0.4681 - accuracy: 0.8604\n",
            "Epoch 96/100\n",
            "574/574 [==============================] - 7s 13ms/step - loss: 0.4530 - accuracy: 0.8627\n",
            "Epoch 97/100\n",
            "574/574 [==============================] - 8s 13ms/step - loss: 0.4503 - accuracy: 0.8634\n",
            "Epoch 98/100\n",
            "574/574 [==============================] - 8s 13ms/step - loss: 0.4500 - accuracy: 0.8632\n",
            "Epoch 99/100\n",
            "574/574 [==============================] - 7s 13ms/step - loss: 0.4509 - accuracy: 0.8641\n",
            "Epoch 100/100\n",
            "574/574 [==============================] - 8s 13ms/step - loss: 0.4517 - accuracy: 0.8633\n",
            "<tensorflow.python.keras.engine.sequential.Sequential object at 0x7fc4692c37b8>\n"
          ],
          "name": "stdout"
        }
      ]
    },
    {
      "cell_type": "code",
      "metadata": {
        "id": "5VrLQzop2UiE",
        "colab_type": "code",
        "colab": {}
      },
      "source": [
        "import matplotlib.pyplot as plt\n",
        "\n",
        "\n",
        "def plot_graphs(history, string):\n",
        "  plt.plot(history.history[string])\n",
        "  plt.xlabel(\"Epochs\")\n",
        "  plt.ylabel(string)\n",
        "  plt.show()"
      ],
      "execution_count": 25,
      "outputs": []
    },
    {
      "cell_type": "code",
      "metadata": {
        "id": "WnqWLQrY8zxz",
        "colab_type": "code",
        "colab": {
          "base_uri": "https://localhost:8080/",
          "height": 279
        },
        "outputId": "3ff1cce1-bb72-4613-dea5-6491f108794f"
      },
      "source": [
        "plot_graphs(history, 'accuracy')"
      ],
      "execution_count": 26,
      "outputs": [
        {
          "output_type": "display_data",
          "data": {
            "image/png": "[encoded data removed]",
            "text/plain": [
              "<Figure size 432x288 with 1 Axes>"
            ]
          },
          "metadata": {
            "tags": [],
            "needs_background": "light"
          }
        }
      ]
    },
    {
      "cell_type": "code",
      "metadata": {
        "id": "E9-4xLDF9Ch2",
        "colab_type": "code",
        "colab": {
          "base_uri": "https://localhost:8080/",
          "height": 104
        },
        "outputId": "271517e1-56b0-461e-cfa5-beb5762fc1d1"
      },
      "source": [
        "seed_text = \"Simp is getting ready for Simping\"\n",
        "next_words = 100\n",
        "  \n",
        "for _ in range(next_words):\n",
        "\ttoken_list = tokenizer.texts_to_sequences([seed_text])[0]\n",
        "\ttoken_list = pad_sequences([token_list], maxlen=max_sequence_length-1, padding='pre')\n",
        "\tpredicted = model.predict_classes(token_list, verbose=0)\n",
        "\toutput_word = \"\"\n",
        "\tfor word, index in tokenizer.word_index.items():\n",
        "\t\tif index == predicted:\n",
        "\t\t\toutput_word = word\n",
        "\t\t\tbreak\n",
        "\tseed_text +=  \" \"  +output_word\n",
        "print(seed_text)"
      ],
      "execution_count": 27,
      "outputs": [
        {
          "output_type": "stream",
          "text": [
            "WARNING:tensorflow:From <ipython-input-27-0052099953bb>:7: Sequential.predict_classes (from tensorflow.python.keras.engine.sequential) is deprecated and will be removed after 2021-01-01.\n",
            "Instructions for updating:\n",
            "Please use instead:* `np.argmax(model.predict(x), axis=-1)`,   if your model does multi-class classification   (e.g. if it uses a `softmax` last-layer activation).* `(model.predict(x) > 0.5).astype(\"int32\")`,   if your model does binary classification   (e.g. if it uses a `sigmoid` last-layer activation).\n",
            "Simp is getting ready for Simping my sake even so as it bring me up not praise now one by me find seen she write seem fair part vulgar day to counted she due climb'd thee ground ' with the wide she he and contracted to dwell his dwell in brow ' forth in this face thou hast it bright the very same part of now longer stain may lies answer sick it no pencil also grow of the time do show you your grow and donations and provide a fee for obtaining a copy upon the united states medium a project gutenberg tm license project\n"
          ],
          "name": "stdout"
        }
      ]
    },
    {
      "cell_type": "code",
      "metadata": {
        "id": "p4sbR5QX9Nxe",
        "colab_type": "code",
        "colab": {}
      },
      "source": [
        ""
      ],
      "execution_count": null,
      "outputs": []
    }
  ]
}